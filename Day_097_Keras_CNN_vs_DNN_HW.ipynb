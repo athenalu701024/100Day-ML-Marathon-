{
 "cells": [
  {
   "cell_type": "markdown",
   "metadata": {},
   "source": [
    "參考文獻\n",
    "1. 撰寫第一支CNN 程式 -- 比較 『阿拉伯數字』辨識力(https://ithelp.ithome.com.tw/articles/10191924)\n",
    "2. Keras 模型、函數及參數使用說明(https://dotblogs.com.tw/greengem/2017/12/17/094023)\n",
    "3. Keras函数式模型接口(https://keras-cn.readthedocs.io/en/latest/models/model/)"
   ]
  },
  {
   "cell_type": "markdown",
   "metadata": {},
   "source": []
  },
  {
   "cell_type": "code",
   "execution_count": 1,
   "metadata": {},
   "outputs": [
    {
     "name": "stderr",
     "output_type": "stream",
     "text": [
      "Using TensorFlow backend.\n"
     ]
    }
   ],
   "source": [
    "# 匯入我們要用的模組\n",
    "import keras\n",
    "from keras.datasets import cifar10\n",
    "from keras.preprocessing.image import ImageDataGenerator\n",
    "from keras.models import Sequential\n",
    "from keras.layers import Dense, Dropout, Activation, Flatten\n",
    "from keras.layers import Conv2D, MaxPooling2D\n",
    "from keras.optimizers import RMSprop, Adam\n",
    "import os"
   ]
  },
  {
   "cell_type": "code",
   "execution_count": 2,
   "metadata": {},
   "outputs": [
    {
     "name": "stdout",
     "output_type": "stream",
     "text": [
      "x_train shape: (50000, 32, 32, 3)\n",
      "50000 train samples\n",
      "10000 test samples\n"
     ]
    }
   ],
   "source": [
    "batch_size = 128 # batch 的大小，如果出現 OOM error，請降低這個值\n",
    "num_classes = 10 # 類別的數量，Cifar 10 共有 10 個類別\n",
    "epochs = 10 # 訓練的 epochs 數量\n",
    "\n",
    "# 讀取資料並檢視\n",
    "(x_train, y_train), (x_test, y_test) = cifar10.load_data()\n",
    "print('x_train shape:', x_train.shape)\n",
    "print(x_train.shape[0], 'train samples')\n",
    "print(x_test.shape[0], 'test samples')\n",
    "\n",
    "# 對 label 進行 one-hot encoding (y_trian 原本是純數字)\n",
    "y_train = keras.utils.to_categorical(y_train, num_classes)\n",
    "y_test = keras.utils.to_categorical(y_test, num_classes)"
   ]
  },
  {
   "cell_type": "markdown",
   "metadata": {},
   "source": [
    "x_train shape: (50000, 32, 32, 3)\n",
    "代表著有 50000個樣本，每個樣本分別是 32*32像素，且有R、G、B 3個色版。"
   ]
  },
  {
   "cell_type": "markdown",
   "metadata": {},
   "source": [
    "## 首先我們使用一般的 DNN (MLP) 來訓練\n",
    "由於 DNN 只能輸入一維的資料，我們要先將影像進行攤平，若 (50000, 32, 32, 3) 的影像，攤平後會變成 (50000, 32x32x3) = (50000, 3072)"
   ]
  },
  {
   "cell_type": "code",
   "execution_count": 3,
   "metadata": {},
   "outputs": [
    {
     "name": "stdout",
     "output_type": "stream",
     "text": [
      "x_train shape: (50000, 3072)\n",
      "50000 train samples\n",
      "10000 test samples\n"
     ]
    }
   ],
   "source": [
    "# 將資料攤平成一維資料\n",
    "x_train = x_train.reshape(50000, 3072) \n",
    "x_test = x_test.reshape(10000, 3072)\n",
    "\n",
    "# 將資料變為 float32 並標準化\n",
    "# 轉換色彩 0~255 資料為 0~1\n",
    "x_train = x_train.astype('float32')\n",
    "x_test = x_test.astype('float32')\n",
    "x_train /= 255\n",
    "x_test /= 255\n",
    "print('x_train shape:', x_train.shape)\n",
    "print(x_train.shape[0], 'train samples')\n",
    "print(x_test.shape[0], 'test samples')"
   ]
  },
  {
   "cell_type": "markdown",
   "metadata": {},
   "source": [
    "x_train shape: (50000, 3072)\n",
    "代表著有 50000個樣本，每個像素及色板的排列組合共有 32x32x3 = 3072種。"
   ]
  },
  {
   "cell_type": "code",
   "execution_count": 4,
   "metadata": {},
   "outputs": [
    {
     "name": "stdout",
     "output_type": "stream",
     "text": [
      "WARNING:tensorflow:From C:\\Users\\mcjor\\Anaconda3\\lib\\site-packages\\keras\\backend\\tensorflow_backend.py:74: The name tf.get_default_graph is deprecated. Please use tf.compat.v1.get_default_graph instead.\n",
      "\n",
      "WARNING:tensorflow:From C:\\Users\\mcjor\\Anaconda3\\lib\\site-packages\\keras\\backend\\tensorflow_backend.py:517: The name tf.placeholder is deprecated. Please use tf.compat.v1.placeholder instead.\n",
      "\n",
      "WARNING:tensorflow:From C:\\Users\\mcjor\\Anaconda3\\lib\\site-packages\\keras\\backend\\tensorflow_backend.py:4138: The name tf.random_uniform is deprecated. Please use tf.random.uniform instead.\n",
      "\n",
      "WARNING:tensorflow:From C:\\Users\\mcjor\\Anaconda3\\lib\\site-packages\\keras\\backend\\tensorflow_backend.py:133: The name tf.placeholder_with_default is deprecated. Please use tf.compat.v1.placeholder_with_default instead.\n",
      "\n",
      "WARNING:tensorflow:From C:\\Users\\mcjor\\Anaconda3\\lib\\site-packages\\keras\\backend\\tensorflow_backend.py:3445: calling dropout (from tensorflow.python.ops.nn_ops) with keep_prob is deprecated and will be removed in a future version.\n",
      "Instructions for updating:\n",
      "Please use `rate` instead of `keep_prob`. Rate should be set to `rate = 1 - keep_prob`.\n",
      "_________________________________________________________________\n",
      "Layer (type)                 Output Shape              Param #   \n",
      "=================================================================\n",
      "dense_1 (Dense)              (None, 512)               1573376   \n",
      "_________________________________________________________________\n",
      "dropout_1 (Dropout)          (None, 512)               0         \n",
      "_________________________________________________________________\n",
      "dense_2 (Dense)              (None, 512)               262656    \n",
      "_________________________________________________________________\n",
      "dropout_2 (Dropout)          (None, 512)               0         \n",
      "_________________________________________________________________\n",
      "dense_3 (Dense)              (None, 10)                5130      \n",
      "=================================================================\n",
      "Total params: 1,841,162\n",
      "Trainable params: 1,841,162\n",
      "Non-trainable params: 0\n",
      "_________________________________________________________________\n",
      "WARNING:tensorflow:From C:\\Users\\mcjor\\Anaconda3\\lib\\site-packages\\keras\\optimizers.py:790: The name tf.train.Optimizer is deprecated. Please use tf.compat.v1.train.Optimizer instead.\n",
      "\n",
      "WARNING:tensorflow:From C:\\Users\\mcjor\\Anaconda3\\lib\\site-packages\\keras\\backend\\tensorflow_backend.py:3295: The name tf.log is deprecated. Please use tf.math.log instead.\n",
      "\n",
      "WARNING:tensorflow:From C:\\Users\\mcjor\\Anaconda3\\lib\\site-packages\\tensorflow_core\\python\\ops\\math_grad.py:1424: where (from tensorflow.python.ops.array_ops) is deprecated and will be removed in a future version.\n",
      "Instructions for updating:\n",
      "Use tf.where in 2.0, which has the same broadcast rule as np.where\n",
      "WARNING:tensorflow:From C:\\Users\\mcjor\\Anaconda3\\lib\\site-packages\\keras\\backend\\tensorflow_backend.py:986: The name tf.assign_add is deprecated. Please use tf.compat.v1.assign_add instead.\n",
      "\n",
      "WARNING:tensorflow:From C:\\Users\\mcjor\\Anaconda3\\lib\\site-packages\\keras\\backend\\tensorflow_backend.py:973: The name tf.assign is deprecated. Please use tf.compat.v1.assign instead.\n",
      "\n",
      "WARNING:tensorflow:From C:\\Users\\mcjor\\Anaconda3\\lib\\site-packages\\keras\\backend\\tensorflow_backend.py:2741: The name tf.Session is deprecated. Please use tf.compat.v1.Session instead.\n",
      "\n",
      "Train on 50000 samples, validate on 10000 samples\n",
      "Epoch 1/10\n",
      "WARNING:tensorflow:From C:\\Users\\mcjor\\Anaconda3\\lib\\site-packages\\keras\\backend\\tensorflow_backend.py:174: The name tf.get_default_session is deprecated. Please use tf.compat.v1.get_default_session instead.\n",
      "\n",
      "WARNING:tensorflow:From C:\\Users\\mcjor\\Anaconda3\\lib\\site-packages\\keras\\backend\\tensorflow_backend.py:181: The name tf.ConfigProto is deprecated. Please use tf.compat.v1.ConfigProto instead.\n",
      "\n",
      "WARNING:tensorflow:From C:\\Users\\mcjor\\Anaconda3\\lib\\site-packages\\keras\\backend\\tensorflow_backend.py:190: The name tf.global_variables is deprecated. Please use tf.compat.v1.global_variables instead.\n",
      "\n",
      "WARNING:tensorflow:From C:\\Users\\mcjor\\Anaconda3\\lib\\site-packages\\keras\\backend\\tensorflow_backend.py:199: The name tf.is_variable_initialized is deprecated. Please use tf.compat.v1.is_variable_initialized instead.\n",
      "\n",
      "WARNING:tensorflow:From C:\\Users\\mcjor\\Anaconda3\\lib\\site-packages\\keras\\backend\\tensorflow_backend.py:206: The name tf.variables_initializer is deprecated. Please use tf.compat.v1.variables_initializer instead.\n",
      "\n",
      "50000/50000 [==============================] - 16s 329us/step - loss: 2.1741 - acc: 0.2507 - val_loss: 1.8653 - val_acc: 0.3328\n",
      "Epoch 2/10\n",
      "50000/50000 [==============================] - 15s 304us/step - loss: 1.8577 - acc: 0.3312 - val_loss: 1.7586 - val_acc: 0.3809\n",
      "Epoch 3/10\n",
      "50000/50000 [==============================] - 16s 310us/step - loss: 1.7802 - acc: 0.3595 - val_loss: 1.6951 - val_acc: 0.4141\n",
      "Epoch 4/10\n",
      "50000/50000 [==============================] - 15s 304us/step - loss: 1.7341 - acc: 0.3780 - val_loss: 1.7369 - val_acc: 0.3911\n",
      "Epoch 5/10\n",
      "50000/50000 [==============================] - 15s 297us/step - loss: 1.6982 - acc: 0.3909 - val_loss: 1.5938 - val_acc: 0.4381\n",
      "Epoch 6/10\n",
      "50000/50000 [==============================] - 15s 303us/step - loss: 1.6653 - acc: 0.4049 - val_loss: 1.6676 - val_acc: 0.4074\n",
      "Epoch 7/10\n",
      "50000/50000 [==============================] - 15s 299us/step - loss: 1.6436 - acc: 0.4106 - val_loss: 1.5749 - val_acc: 0.4460\n",
      "Epoch 8/10\n",
      "50000/50000 [==============================] - 15s 305us/step - loss: 1.6288 - acc: 0.4180 - val_loss: 1.5261 - val_acc: 0.4542\n",
      "Epoch 9/10\n",
      "50000/50000 [==============================] - 15s 306us/step - loss: 1.6136 - acc: 0.4240 - val_loss: 1.5382 - val_acc: 0.4582\n",
      "Epoch 10/10\n",
      "50000/50000 [==============================] - 15s 301us/step - loss: 1.5983 - acc: 0.4289 - val_loss: 1.5813 - val_acc: 0.4381\n",
      "Test loss: 1.581307485961914\n",
      "Test accuracy: 0.4381\n"
     ]
    }
   ],
   "source": [
    "# 建立模型(Model)：首先，我們要確立Input格式、要經過幾層處理、每一層要作甚麼處理。\n",
    "# 建立簡單的線性執行的模型\n",
    "model = Sequential()\n",
    "\n",
    "# Add Input layer, 有 512個輸出變數\n",
    "model.add(Dense(512, activation='relu', input_shape=(3072,)))\n",
    "# Add Dropout layer,隨機斷開輸入神經元，用於防止過度擬合，斷開比例:0.2\n",
    "model.add(Dropout(0.2))\n",
    "model.add(Dense(512, activation='relu'))\n",
    "model.add(Dropout(0.2))\n",
    "# Add output layer，共有10個輸出變數(在本案例 num_classes=10，Cifar 10 共有 10 個類別)\n",
    "model.add(Dense(num_classes, activation='softmax'))\n",
    "# 輸出模型概況\n",
    "model.summary()\n",
    "\n",
    "# 編譯: 選擇損失函數、優化方法及成效衡量方式\n",
    "# 確立目標及求解方法：以compile函數定義損失函數(loss)、優化函數(optimizer)及成效衡量指標(mertrics)。\n",
    "model.compile(loss='categorical_crossentropy',\n",
    "              optimizer=RMSprop(),\n",
    "              metrics=['accuracy'])\n",
    "\n",
    "# 訓練：以compile函數進行訓練，指定訓練的樣本資料(x, y)，並撥一部分資料作驗證，還有要訓練幾個週期、訓練資料的抽樣方式。\n",
    "# 訓練過程會存在 history 變數中\n",
    "history = model.fit(x_train, y_train,\n",
    "                    batch_size=batch_size,\n",
    "                    epochs=epochs,\n",
    "                    verbose=1,\n",
    "                    validation_data=(x_test, y_test))\n",
    "\n",
    "# 顯示損失函數、訓練成果(分數)\n",
    "# verbose：日誌顯示，0為不在標準輸出流輸出日誌信息，1為輸出進度條記錄，2為每個epoch輸出一行記錄。\n",
    "score = model.evaluate(x_test, y_test, verbose=0)\n",
    "print('Test loss:', score[0])\n",
    "print('Test accuracy:', score[1])"
   ]
  },
  {
   "cell_type": "markdown",
   "metadata": {},
   "source": [
    "## 接下來我們使用 CNN 來訓練神經網路\n",
    "CNN 的原理非常適合處理影像類的資料，就讓我們來看看，同樣的訓練條件，CNN 是否顯著優於 DNN 呢?"
   ]
  },
  {
   "cell_type": "code",
   "execution_count": 9,
   "metadata": {},
   "outputs": [
    {
     "name": "stdout",
     "output_type": "stream",
     "text": [
      "x_train shape: (50000, 32, 32, 3)\n",
      "50000 train samples\n",
      "10000 test samples\n",
      "10 y_train shape\n",
      "10 y_test shape\n"
     ]
    }
   ],
   "source": [
    "(x_train, y_train), (x_test, y_test) = cifar10.load_data()\n",
    "print('x_train shape:', x_train.shape)\n",
    "print(x_train.shape[0], 'train samples')\n",
    "print(x_test.shape[0], 'test samples')\n",
    "\n",
    "# 將資料變為 float32 並標準化\n",
    "# 轉換色彩 0~255 資料為 0~1\n",
    "x_train = x_train.astype('float32')\n",
    "x_test = x_test.astype('float32')\n",
    "x_train /= 255\n",
    "x_test /= 255\n",
    "\n",
    "# Convert class vectors to binary class matrices.\n",
    "# y 值轉成 one-hot encoding，轉成10類\n",
    "y_train = keras.utils.to_categorical(y_train, num_classes)\n",
    "y_test = keras.utils.to_categorical(y_test, num_classes)\n",
    "print(y_train.shape[1], 'y_train shape')\n",
    "print(y_test.shape[1], 'y_test shape')"
   ]
  },
  {
   "cell_type": "code",
   "execution_count": 10,
   "metadata": {},
   "outputs": [
    {
     "name": "stdout",
     "output_type": "stream",
     "text": [
      "WARNING:tensorflow:From C:\\Users\\mcjor\\Anaconda3\\lib\\site-packages\\keras\\backend\\tensorflow_backend.py:3976: The name tf.nn.max_pool is deprecated. Please use tf.nn.max_pool2d instead.\n",
      "\n",
      "_________________________________________________________________\n",
      "Layer (type)                 Output Shape              Param #   \n",
      "=================================================================\n",
      "conv2d_1 (Conv2D)            (None, 32, 32, 32)        896       \n",
      "_________________________________________________________________\n",
      "activation_1 (Activation)    (None, 32, 32, 32)        0         \n",
      "_________________________________________________________________\n",
      "conv2d_2 (Conv2D)            (None, 30, 30, 32)        9248      \n",
      "_________________________________________________________________\n",
      "activation_2 (Activation)    (None, 30, 30, 32)        0         \n",
      "_________________________________________________________________\n",
      "max_pooling2d_1 (MaxPooling2 (None, 15, 15, 32)        0         \n",
      "_________________________________________________________________\n",
      "dropout_3 (Dropout)          (None, 15, 15, 32)        0         \n",
      "_________________________________________________________________\n",
      "conv2d_3 (Conv2D)            (None, 15, 15, 64)        18496     \n",
      "_________________________________________________________________\n",
      "activation_3 (Activation)    (None, 15, 15, 64)        0         \n",
      "_________________________________________________________________\n",
      "conv2d_4 (Conv2D)            (None, 13, 13, 64)        36928     \n",
      "_________________________________________________________________\n",
      "activation_4 (Activation)    (None, 13, 13, 64)        0         \n",
      "_________________________________________________________________\n",
      "max_pooling2d_2 (MaxPooling2 (None, 6, 6, 64)          0         \n",
      "_________________________________________________________________\n",
      "dropout_4 (Dropout)          (None, 6, 6, 64)          0         \n",
      "_________________________________________________________________\n",
      "flatten_1 (Flatten)          (None, 2304)              0         \n",
      "_________________________________________________________________\n",
      "dense_4 (Dense)              (None, 512)               1180160   \n",
      "_________________________________________________________________\n",
      "activation_5 (Activation)    (None, 512)               0         \n",
      "_________________________________________________________________\n",
      "dropout_5 (Dropout)          (None, 512)               0         \n",
      "_________________________________________________________________\n",
      "dense_5 (Dense)              (None, 10)                5130      \n",
      "_________________________________________________________________\n",
      "activation_6 (Activation)    (None, 10)                0         \n",
      "=================================================================\n",
      "Total params: 1,250,858\n",
      "Trainable params: 1,250,858\n",
      "Non-trainable params: 0\n",
      "_________________________________________________________________\n",
      "Train on 50000 samples, validate on 10000 samples\n",
      "Epoch 1/10\n",
      "50000/50000 [==============================] - 340s 7ms/step - loss: 1.7394 - acc: 0.3671 - val_loss: 1.3766 - val_acc: 0.5015\n",
      "Epoch 2/10\n",
      "50000/50000 [==============================] - 333s 7ms/step - loss: 1.3070 - acc: 0.5366 - val_loss: 1.2990 - val_acc: 0.5359\n",
      "Epoch 3/10\n",
      "50000/50000 [==============================] - 331s 7ms/step - loss: 1.1088 - acc: 0.6118 - val_loss: 1.0638 - val_acc: 0.6319\n",
      "Epoch 4/10\n",
      "50000/50000 [==============================] - 333s 7ms/step - loss: 0.9762 - acc: 0.6575 - val_loss: 0.9052 - val_acc: 0.6852\n",
      "Epoch 5/10\n",
      "50000/50000 [==============================] - 350s 7ms/step - loss: 0.8811 - acc: 0.6938 - val_loss: 0.7939 - val_acc: 0.7253\n",
      "Epoch 6/10\n",
      "50000/50000 [==============================] - 360s 7ms/step - loss: 0.8112 - acc: 0.7186 - val_loss: 0.8255 - val_acc: 0.7228\n",
      "Epoch 7/10\n",
      "50000/50000 [==============================] - 363s 7ms/step - loss: 0.7572 - acc: 0.7365 - val_loss: 0.7600 - val_acc: 0.7400\n",
      "Epoch 8/10\n",
      "50000/50000 [==============================] - 359s 7ms/step - loss: 0.7201 - acc: 0.7503 - val_loss: 0.6812 - val_acc: 0.7649\n",
      "Epoch 9/10\n",
      "50000/50000 [==============================] - 360s 7ms/step - loss: 0.6870 - acc: 0.7615 - val_loss: 0.7616 - val_acc: 0.7336\n",
      "Epoch 10/10\n",
      "50000/50000 [==============================] - 362s 7ms/step - loss: 0.6608 - acc: 0.7735 - val_loss: 0.6911 - val_acc: 0.7663\n",
      "Test loss: 0.6910779381275177\n",
      "Test accuracy: 0.7663\n"
     ]
    }
   ],
   "source": [
    "# 建立簡單的線性執行的模型\n",
    "model = Sequential()\n",
    "# 建立卷積層，filter=32,即 output space 的深度, Kernal Size: 3x3, padding='same'不足的空間用 0填充一列\n",
    "model.add(Conv2D(32, (3, 3), padding='same',\n",
    "                 input_shape=x_train.shape[1:]))\n",
    "# activation function 採用 relu\n",
    "model.add(Activation('relu'))\n",
    "# 建立卷積層，filter=32,即 output size, Kernal Size: 3x3\n",
    "model.add(Conv2D(32, (3, 3)))\n",
    "# activation function 採用 relu\n",
    "model.add(Activation('relu'))\n",
    "# 建立池化層，池化大小=2x2，取最大值\n",
    "model.add(MaxPooling2D(pool_size=(2, 2)))\n",
    "# 隨機斷開輸入神經元，用於防止過度擬合，斷開比例:0.25\n",
    "model.add(Dropout(0.25))\n",
    "\n",
    "# 建立卷積層，filter=64,即 output size, Kernal Size: 3x3, padding='same'不足的空間用 0填充一列\n",
    "model.add(Conv2D(64, (3, 3), padding='same'))\n",
    "# activation function 採用 relu\n",
    "model.add(Activation('relu'))\n",
    "# 建立卷積層，filter=64,即 output size, Kernal Size: 3x3\n",
    "model.add(Conv2D(64, (3, 3)))\n",
    "# activation function 採用 relu\n",
    "model.add(Activation('relu'))\n",
    "# 建立池化層，池化大小=2x2，取最大值\n",
    "model.add(MaxPooling2D(pool_size=(2, 2)))\n",
    "# 隨機斷開輸入神經元，用於防止過度擬合，斷開比例:0.25\n",
    "model.add(Dropout(0.25))\n",
    "\n",
    "# 把多維的輸入一維化，常用在從卷積層到全連接層的過渡。\n",
    "model.add(Flatten())\n",
    "# 全連接層: 512個output\n",
    "model.add(Dense(512))\n",
    "# activation function 採用 relu\n",
    "model.add(Activation('relu'))\n",
    "# 隨機斷開輸入神經元，用於防止過度擬合，斷開比例:0.5\n",
    "model.add(Dropout(0.5))\n",
    "# 使用 softmax activation function，並將結果分類\n",
    "model.add(Dense(num_classes))\n",
    "model.add(Activation('softmax'))\n",
    "# 輸出模型概況\n",
    "model.summary()\n",
    "\n",
    "# 編譯: 選擇損失函數、優化方法及成效衡量方式\n",
    "# 確立目標及求解方法：以compile函數定義損失函數(loss)、優化函數(optimizer)及成效衡量指標(mertrics)。\n",
    "model.compile(loss='categorical_crossentropy',\n",
    "              optimizer=RMSprop(),\n",
    "              metrics=['accuracy'])\n",
    "\n",
    "# 訓練：以compile函數進行訓練，指定訓練的樣本資料(x, y)，並撥一部分資料作驗證，還有要訓練幾個週期、訓練資料的抽樣方式。\n",
    "# 訓練過程會存在 history 變數中\n",
    "history = model.fit(x_train, y_train,\n",
    "                    batch_size=batch_size,\n",
    "                    epochs=epochs,\n",
    "                    verbose=1,\n",
    "                    validation_data=(x_test, y_test))\n",
    "\n",
    "# 顯示損失函數、訓練成果(分數)\n",
    "# verbose：日誌顯示，0為不在標準輸出流輸出日誌信息，1為輸出進度條記錄，2為每個epoch輸出一行記錄。\n",
    "score = model.evaluate(x_test, y_test, verbose=0)\n",
    "print('Test loss:', score[0])\n",
    "print('Test accuracy:', score[1])"
   ]
  },
  {
   "cell_type": "code",
   "execution_count": 13,
   "metadata": {},
   "outputs": [],
   "source": [
    "# 模型結構存檔\n",
    "from keras.models import model_from_json\n",
    "json_string = model.to_json()\n",
    "with open(\"cnn.config\", \"w\") as text_file:\n",
    "    text_file.write(json_string)\n",
    "\n",
    "# 模型訓練結果存檔\n",
    "model.save_weights(\"cnn.weight\")"
   ]
  },
  {
   "cell_type": "markdown",
   "metadata": {},
   "source": [
    "## 同樣運算 10 個 epochs，但 CNN 在 test data 的準確率顯著優於 DNN!"
   ]
  },
  {
   "cell_type": "markdown",
   "metadata": {},
   "source": [
    "## 作業\n",
    "1. 請試著調整各個超參數，並說明那些超參數對於結果有明顯的影響?\n",
    "2. CNN 與 DNN 哪個模型的參數數量比較多? 造成參數的數量不同的原因在哪?"
   ]
  },
  {
   "cell_type": "markdown",
   "metadata": {},
   "source": [
    "1. Conv2D 層數 & 優化器有較明顯的影響。\n",
    "2. DNN參數量:1,841,162，CNN參數量:1,250,858，DNN參數量較多。CNN每一層input output的數值比較小。"
   ]
  }
 ],
 "metadata": {
  "kernelspec": {
   "display_name": "Python 3",
   "language": "python",
   "name": "python3"
  },
  "language_info": {
   "codemirror_mode": {
    "name": "ipython",
    "version": 3
   },
   "file_extension": ".py",
   "mimetype": "text/x-python",
   "name": "python",
   "nbconvert_exporter": "python",
   "pygments_lexer": "ipython3",
   "version": "3.7.5"
  }
 },
 "nbformat": 4,
 "nbformat_minor": 2
}
