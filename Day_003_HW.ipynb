{
 "cells": [
  {
   "cell_type": "markdown",
   "metadata": {},
   "source": [
    "## [作業目標]\n",
    "持續接觸有關機器學習的相關專案與最新技術"
   ]
  },
  {
   "cell_type": "markdown",
   "metadata": {},
   "source": [
    "## [作業重點]\n",
    "透過觀察頂尖公司的機器學習文章，來了解各公司是怎麼應用機器學習在實際的專案上"
   ]
  },
  {
   "cell_type": "markdown",
   "metadata": {},
   "source": [
    "## [作業]\n",
    "今天的作業希望大家能夠看看全球機器學習巨頭們在做的機器學習專案。以 google 為例，下圖是 Google 內部專案使用機器學習的數量，隨著時間進展，現在早已超過 2000 個專案在使用機器學習。"
   ]
  },
  {
   "cell_type": "markdown",
   "metadata": {},
   "source": [
    "![image](https://cdn-images-1.medium.com/max/800/1*U_L8qI8RmYS-MOBrYvXhSA.png)"
   ]
  },
  {
   "cell_type": "markdown",
   "metadata": {},
   "source": [
    "底下幫同學整理幾間知名企業的 blog 或機器學習網站 (自行搜尋也可)，這些網站都會整理最新的機器學習專案或者是技術文章，請挑選一篇文章閱讀並試著回答\n",
    "1. 專案的目標？ (要解決什麼問題）\n",
    "2. 使用的技術是？ (只需知道名稱即可，例如：使用 CNN 卷積神經網路做影像分類)\n",
    "3. 資料來源？ "
   ]
  },
  {
   "cell_type": "markdown",
   "metadata": {},
   "source": [
    "- [Google AI blog](https://ai.googleblog.com/)\n",
    "- [Facebook Research blog](https://research.fb.com/blog/)\n",
    "- [Apple machine learning journal](https://machinelearning.apple.com/)\n",
    "- [機器之心](https://www.jiqizhixin.com/)\n",
    "- [雷鋒網](http://www.leiphone.com/category/ai)"
   ]
  },
  {
   "cell_type": "markdown",
   "metadata": {},
   "source": [
    "#UCSD張康教授：AI醫療影像診斷系統\n",
    "\n",
    "\n",
    "1. 專案目標\n",
    "\n",
    "    基於遷移學習的方法，診斷導致盲性視網膜疾病與肺炎的人工智能工具。研究目的，希望與專業醫生互相搭配，快速判斷患者是否應接受治療。\n",
    "\n",
    "2. 使用技術\n",
    "    \n",
    "    2-1 採用監督式機器學習（預訓練提供權重，提前標記好訓練系統）+CNN神經網路做影像分類。\n",
    "    \n",
    "    2-2 在視網膜OCT圖像的研究中加入了「遮擋測試」——通過CNN卷積一個遮擋核心到輸入圖像上，機器會通過計算預測做出正確診斷最可能的部位，並輸出含有高亮色塊的「遮擋」圖，這些色塊就是AI「認為」的病變部位，得出直觀的為臨床醫生信任的診斷依據。\n",
    "    \n",
    "    2-3 通過「遷移學習」算法診斷不同系統的疾病，例如：鑑別肺炎和正常胸部X 線平片，區分肺炎的病原體為細菌還是病毒。\n",
    "\n",
    "3. 資料來源\n",
    "    \n",
    "    3-1 登上《Cell》封面的AI醫療影像診斷系統：機器之心專訪UCSD張康教授 - 機器之心專訪\n",
    "    https://www.jiqizhixin.com/articles/UCSD-Kang-Zhang-Cell-Cover-deep-learing-Medical-Diagnoses\n",
    "    \n",
    "    3-2 Identifying Medical Diagnoses and Treatable Diseases by Image-Based Deep Learning - 論文連結\n",
    "    http://www.cell.com/cell/fulltext/S0092-8674(18)30154-5"
   ]
  },
  {
   "cell_type": "code",
   "execution_count": null,
   "metadata": {},
   "outputs": [],
   "source": []
  },
  {
   "cell_type": "code",
   "execution_count": null,
   "metadata": {},
   "outputs": [],
   "source": []
  }
 ],
 "metadata": {
  "kernelspec": {
   "display_name": "Python 3",
   "language": "python",
   "name": "python3"
  },
  "language_info": {
   "codemirror_mode": {
    "name": "ipython",
    "version": 3
   },
   "file_extension": ".py",
   "mimetype": "text/x-python",
   "name": "python",
   "nbconvert_exporter": "python",
   "pygments_lexer": "ipython3",
   "version": "3.7.3"
  }
 },
 "nbformat": 4,
 "nbformat_minor": 2
}
