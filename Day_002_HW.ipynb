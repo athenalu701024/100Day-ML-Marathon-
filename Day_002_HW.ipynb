{
 "cells": [
  {
   "cell_type": "markdown",
   "metadata": {},
   "source": [
    "## [作業目標]\n",
    "了解機器學習適合應用的領域與範疇。"
   ]
  },
  {
   "cell_type": "markdown",
   "metadata": {},
   "source": [
    "## [作業重點]\n",
    "透過瞭解機器學習的運作方式，找出非常適用機器學習應用的領域及其原因"
   ]
  },
  {
   "cell_type": "markdown",
   "metadata": {},
   "source": [
    "## 作業\n",
    "請找出一個你認為機器學習可以發光發熱的領域並闡述原因? "
   ]
  },
  {
   "cell_type": "markdown",
   "metadata": {},
   "source": [
    "糧食栽種分配問題。\n",
    "\n",
    "現階段無論是台灣小農自主決定土地耕作政策，或是以地方農會發起的糧食耕種分配製作，甚至擴及以國家為出發的農委會糧食栽種及進出口政策，目前還沒有一個很有效率的管控及良好的監控制度。\n",
    "\n",
    "農民一班會栽種的作物種類，往往會依據前幾年收入最好的幾項種類作為依據，和種苗公司購買種苗或是自己繁殖種苗進行耕種，而彼此間的資訊不透明、耕種及管理方式不同，年度產量無法有效到讓中央計算到，很多時候反而容易造成量產過剩而浪費，或是產量不足必須仰賴大量進口的問題。\n",
    "\n",
    "「台灣在地供需平衡 / 與外國貿易進出口」相關政策，需透過國家的力量以年度或數個年度為一個單位計算，搭配台灣必須要與世界維持的進出口政策，以及搭配是否有需主打以出口為主或觀光為主的糧食種類，最後計算人民所需要糧食需求，合理分配或給予建議，讓糧食栽種的問題不再是個人的問題，而是透過大數據有效解決糧食栽種的常見問題。"
   ]
  },
  {
   "cell_type": "code",
   "execution_count": null,
   "metadata": {},
   "outputs": [],
   "source": []
  },
  {
   "cell_type": "code",
   "execution_count": null,
   "metadata": {},
   "outputs": [],
   "source": []
  }
 ],
 "metadata": {
  "kernelspec": {
   "display_name": "Python 3",
   "language": "python",
   "name": "python3"
  },
  "language_info": {
   "codemirror_mode": {
    "name": "ipython",
    "version": 3
   },
   "file_extension": ".py",
   "mimetype": "text/x-python",
   "name": "python",
   "nbconvert_exporter": "python",
   "pygments_lexer": "ipython3",
   "version": "3.7.3"
  }
 },
 "nbformat": 4,
 "nbformat_minor": 2
}
