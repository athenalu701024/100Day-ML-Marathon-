{
 "cells": [
  {
   "cell_type": "markdown",
   "metadata": {},
   "source": [
    "## 練習時間\n",
    "相信大家對回歸問題及分類問題都有初步的了解。今天的作業希望大家搜尋有關 multi-label 的案例問題。下圖是電影 \"奇異博士\" 的分類。可以看到同時有 \"Action\", \"Adventure\", \"Fantasy\" 的類別存在，代表這是個多標籤的問題。 "
   ]
  },
  {
   "cell_type": "markdown",
   "metadata": {},
   "source": [
    "![image](https://cdn-images-1.medium.com/max/1000/1*r0gYXMSQf5VhdMyl2bRDyg.png)"
   ]
  },
  {
   "cell_type": "markdown",
   "metadata": {},
   "source": [
    "## 請搜尋目標為多標籤問題 (Multi-label) 的機器學習案例，了解其資料來源、目標以及評估指標為何\n",
    "## Hint: 服飾"
   ]
  },
  {
   "cell_type": "code",
   "execution_count": null,
   "metadata": {},
   "outputs": [],
   "source": [
    "'''\n",
    "基於keras實現多標籤分類（multi-label classification）\n",
    "https://www.pyimagesearch.com/2018/05/07/multi-label-classification-with-keras/\n",
    "https://www.itread01.com/content/1542075307.html\n",
    "\n",
    "資料來源：\n",
    "透過使用Bing影象搜尋API（Microsoft’s Bing Image Search API）建立影象資料（需要線上註冊獲得api key，使用key進行圖片搜尋）\n",
    "資料集包含六個類別的2,167個圖片，圖片資料可以通過python爬蟲在網站上抓取得到。包括：\n",
    "黑色牛仔褲（344）、藍色連衣裙（386）、藍色牛仔褲（356）、藍色襯衫（369）、紅色連衣裙（380）、紅色襯衫（332）\n",
    "\n",
    "目標：\n",
    "使用訓練完成的模型預測新的圖片（服裝）內容。\n",
    "\n",
    "評估指標：\n",
    "最終顯示出預測的分類結果是否與驗證結果相符。\n",
    "\n",
    "'''"
   ]
  }
 ],
 "metadata": {
  "kernelspec": {
   "display_name": "Python 3",
   "language": "python",
   "name": "python3"
  },
  "language_info": {
   "codemirror_mode": {
    "name": "ipython",
    "version": 3
   },
   "file_extension": ".py",
   "mimetype": "text/x-python",
   "name": "python",
   "nbconvert_exporter": "python",
   "pygments_lexer": "ipython3",
   "version": "3.7.3"
  }
 },
 "nbformat": 4,
 "nbformat_minor": 2
}
