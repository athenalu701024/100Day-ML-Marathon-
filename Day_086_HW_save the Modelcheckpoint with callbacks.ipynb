{
 "cells": [
  {
   "cell_type": "markdown",
   "metadata": {},
   "source": [
    "## Work\n",
    "1. 試比較 save_best_only 與否的差異\n",
    "2. 請僅存入將 save_weights_only 設定為 True, 並嘗試 reset ipynb 並將模型與權重重新建回並預測 x_test"
   ]
  },
  {
   "cell_type": "markdown",
   "metadata": {},
   "source": [
    "參考文件\n",
    "https://morvanzhou.github.io/tutorials/machine-learning/keras/3-1-save/"
   ]
  },
  {
   "cell_type": "code",
   "execution_count": 1,
   "metadata": {},
   "outputs": [
    {
     "name": "stderr",
     "output_type": "stream",
     "text": [
      "Using TensorFlow backend.\n"
     ]
    }
   ],
   "source": [
    "import os\n",
    "import keras\n",
    "import itertools\n",
    "import matplotlib.pyplot as plt\n",
    "%matplotlib inline\n",
    "\n",
    "\n",
    "# Disable GPU\n",
    "os.environ[\"CUDA_VISIBLE_DEVICES\"] = \"0\""
   ]
  },
  {
   "cell_type": "code",
   "execution_count": 2,
   "metadata": {},
   "outputs": [],
   "source": [
    "train, test = keras.datasets.cifar10.load_data()"
   ]
  },
  {
   "cell_type": "code",
   "execution_count": 3,
   "metadata": {},
   "outputs": [],
   "source": [
    "## 資料前處理\n",
    "def preproc_x(x, flatten=True):\n",
    "    x = x / 255.\n",
    "    if flatten:\n",
    "        x = x.reshape((len(x), -1))\n",
    "    return x\n",
    "\n",
    "def preproc_y(y, num_classes=10):\n",
    "    if y.shape[-1] == 1:\n",
    "        y = keras.utils.to_categorical(y, num_classes)\n",
    "    return y    "
   ]
  },
  {
   "cell_type": "code",
   "execution_count": 4,
   "metadata": {},
   "outputs": [],
   "source": [
    "x_train, y_train = train\n",
    "x_test, y_test = test\n",
    "\n",
    "# Preproc the inputs\n",
    "x_train = preproc_x(x_train)\n",
    "x_test = preproc_x(x_test)\n",
    "\n",
    "# Preprc the outputs\n",
    "y_train = preproc_y(y_train)\n",
    "y_test = preproc_y(y_test)"
   ]
  },
  {
   "cell_type": "code",
   "execution_count": 5,
   "metadata": {},
   "outputs": [],
   "source": [
    "from keras.layers import BatchNormalization\n",
    "\n",
    "\"\"\"\n",
    "建立神經網路，並加入 BN layer\n",
    "\"\"\"\n",
    "def build_mlp(input_shape, output_units=10, num_neurons=[512, 256, 128]):\n",
    "    input_layer = keras.layers.Input(input_shape)\n",
    "    \n",
    "    for i, n_units in enumerate(num_neurons):\n",
    "        if i == 0:\n",
    "            x = keras.layers.Dense(units=n_units, \n",
    "                                   activation=\"relu\", \n",
    "                                   name=\"hidden_layer\"+str(i+1))(input_layer)\n",
    "            x = BatchNormalization()(x)\n",
    "        else:\n",
    "            x = keras.layers.Dense(units=n_units, \n",
    "                                   activation=\"relu\", \n",
    "                                   name=\"hidden_layer\"+str(i+1))(x)\n",
    "            x = BatchNormalization()(x)\n",
    "    \n",
    "    out = keras.layers.Dense(units=output_units, activation=\"softmax\", name=\"output\")(x)\n",
    "    \n",
    "    model = keras.models.Model(inputs=[input_layer], outputs=[out])\n",
    "    return model"
   ]
  },
  {
   "cell_type": "markdown",
   "metadata": {},
   "source": [
    "## Work\n",
    "1. 試比較 save_best_only 與否的差異\n",
    "2. 請僅存入將 save_weights_only 設定為 True, 並嘗試 reset ipynb 並將模型與權重重新建回並預測 x_test"
   ]
  },
  {
   "cell_type": "code",
   "execution_count": 6,
   "metadata": {},
   "outputs": [],
   "source": [
    "\"\"\"Code Here\n",
    "設定超參數\n",
    "\"\"\"\n",
    "LEARNING_RATE = 1e-3\n",
    "EPOCHS = 50\n",
    "BATCH_SIZE = 1024\n",
    "MOMENTUM = 0.95"
   ]
  },
  {
   "cell_type": "code",
   "execution_count": 7,
   "metadata": {},
   "outputs": [],
   "source": [
    "# 載入 Callbacks\n",
    "\"\"\"Code Here\n",
    "設定 callbacks: model checkpoint\n",
    "並將監控目標設為 validation loss, 且只存最佳參數時的模型\n",
    "\"\"\"\n",
    "from keras.callbacks import ModelCheckpoint\n",
    "\n",
    "model_ckpt = ModelCheckpoint(filepath=\"./tmp.h5\",    # path to save\n",
    "                             monitor=\"val_loss\",     # target to monitor\n",
    "                             save_best_only=True)    # save best checkpoint"
   ]
  },
  {
   "cell_type": "code",
   "execution_count": 8,
   "metadata": {},
   "outputs": [
    {
     "name": "stdout",
     "output_type": "stream",
     "text": [
      "Model: \"model_1\"\n",
      "_________________________________________________________________\n",
      "Layer (type)                 Output Shape              Param #   \n",
      "=================================================================\n",
      "input_1 (InputLayer)         (None, 3072)              0         \n",
      "_________________________________________________________________\n",
      "hidden_layer1 (Dense)        (None, 512)               1573376   \n",
      "_________________________________________________________________\n",
      "batch_normalization_1 (Batch (None, 512)               2048      \n",
      "_________________________________________________________________\n",
      "hidden_layer2 (Dense)        (None, 256)               131328    \n",
      "_________________________________________________________________\n",
      "batch_normalization_2 (Batch (None, 256)               1024      \n",
      "_________________________________________________________________\n",
      "hidden_layer3 (Dense)        (None, 128)               32896     \n",
      "_________________________________________________________________\n",
      "batch_normalization_3 (Batch (None, 128)               512       \n",
      "_________________________________________________________________\n",
      "output (Dense)               (None, 10)                1290      \n",
      "=================================================================\n",
      "Total params: 1,742,474\n",
      "Trainable params: 1,740,682\n",
      "Non-trainable params: 1,792\n",
      "_________________________________________________________________\n",
      "Train on 50000 samples, validate on 10000 samples\n",
      "Epoch 1/50\n",
      "50000/50000 [==============================] - 6s 117us/step - loss: 2.2388 - accuracy: 0.2687 - val_loss: 2.1310 - val_accuracy: 0.1933\n",
      "Epoch 2/50\n",
      "50000/50000 [==============================] - 5s 104us/step - loss: 1.7528 - accuracy: 0.3940 - val_loss: 2.0243 - val_accuracy: 0.2538\n",
      "Epoch 3/50\n",
      "50000/50000 [==============================] - 6s 111us/step - loss: 1.6251 - accuracy: 0.4346 - val_loss: 1.8592 - val_accuracy: 0.3425\n",
      "Epoch 4/50\n",
      "50000/50000 [==============================] - 5s 107us/step - loss: 1.5481 - accuracy: 0.4589 - val_loss: 1.7473 - val_accuracy: 0.3814\n",
      "Epoch 5/50\n",
      "50000/50000 [==============================] - 6s 111us/step - loss: 1.4918 - accuracy: 0.4805 - val_loss: 1.6501 - val_accuracy: 0.4189\n",
      "Epoch 6/50\n",
      "50000/50000 [==============================] - 6s 110us/step - loss: 1.4452 - accuracy: 0.4963 - val_loss: 1.5844 - val_accuracy: 0.4379\n",
      "Epoch 7/50\n",
      "50000/50000 [==============================] - 5s 107us/step - loss: 1.4040 - accuracy: 0.5118 - val_loss: 1.5502 - val_accuracy: 0.4499\n",
      "Epoch 8/50\n",
      "50000/50000 [==============================] - 5s 107us/step - loss: 1.3681 - accuracy: 0.5255 - val_loss: 1.5361 - val_accuracy: 0.4548\n",
      "Epoch 9/50\n",
      "50000/50000 [==============================] - 6s 112us/step - loss: 1.3354 - accuracy: 0.5370 - val_loss: 1.5130 - val_accuracy: 0.4676\n",
      "Epoch 10/50\n",
      "50000/50000 [==============================] - 6s 111us/step - loss: 1.3030 - accuracy: 0.5494 - val_loss: 1.4930 - val_accuracy: 0.4692\n",
      "Epoch 11/50\n",
      "50000/50000 [==============================] - 5s 110us/step - loss: 1.2744 - accuracy: 0.5602 - val_loss: 1.4802 - val_accuracy: 0.4796\n",
      "Epoch 12/50\n",
      "50000/50000 [==============================] - 5s 109us/step - loss: 1.2471 - accuracy: 0.5684 - val_loss: 1.4789 - val_accuracy: 0.4845\n",
      "Epoch 13/50\n",
      "50000/50000 [==============================] - 5s 104us/step - loss: 1.2194 - accuracy: 0.5784 - val_loss: 1.4628 - val_accuracy: 0.4855\n",
      "Epoch 14/50\n",
      "50000/50000 [==============================] - 5s 107us/step - loss: 1.1953 - accuracy: 0.5858 - val_loss: 1.4623 - val_accuracy: 0.4867\n",
      "Epoch 15/50\n",
      "50000/50000 [==============================] - 5s 110us/step - loss: 1.1707 - accuracy: 0.5964 - val_loss: 1.4618 - val_accuracy: 0.4836\n",
      "Epoch 16/50\n",
      "50000/50000 [==============================] - 5s 104us/step - loss: 1.1488 - accuracy: 0.6049 - val_loss: 1.4521 - val_accuracy: 0.4858\n",
      "Epoch 17/50\n",
      "50000/50000 [==============================] - 5s 106us/step - loss: 1.1242 - accuracy: 0.6129 - val_loss: 1.4485 - val_accuracy: 0.4902\n",
      "Epoch 18/50\n",
      "50000/50000 [==============================] - 5s 109us/step - loss: 1.1007 - accuracy: 0.6230 - val_loss: 1.4605 - val_accuracy: 0.4868\n",
      "Epoch 19/50\n",
      "50000/50000 [==============================] - 5s 100us/step - loss: 1.0793 - accuracy: 0.6305 - val_loss: 1.4420 - val_accuracy: 0.4912\n",
      "Epoch 20/50\n",
      "50000/50000 [==============================] - 5s 101us/step - loss: 1.0564 - accuracy: 0.6413 - val_loss: 1.4543 - val_accuracy: 0.4909\n",
      "Epoch 21/50\n",
      "50000/50000 [==============================] - 5s 103us/step - loss: 1.0352 - accuracy: 0.6486 - val_loss: 1.4402 - val_accuracy: 0.4940\n",
      "Epoch 22/50\n",
      "50000/50000 [==============================] - 5s 100us/step - loss: 1.0137 - accuracy: 0.6569 - val_loss: 1.4435 - val_accuracy: 0.5015\n",
      "Epoch 23/50\n",
      "50000/50000 [==============================] - 5s 100us/step - loss: 0.9917 - accuracy: 0.6652 - val_loss: 1.4481 - val_accuracy: 0.5009\n",
      "Epoch 24/50\n",
      "50000/50000 [==============================] - 5s 105us/step - loss: 0.9701 - accuracy: 0.6734 - val_loss: 1.4561 - val_accuracy: 0.4959\n",
      "Epoch 25/50\n",
      "50000/50000 [==============================] - 5s 109us/step - loss: 0.9507 - accuracy: 0.6825 - val_loss: 1.4764 - val_accuracy: 0.4958\n",
      "Epoch 26/50\n",
      "50000/50000 [==============================] - 5s 107us/step - loss: 0.9298 - accuracy: 0.6896 - val_loss: 1.4600 - val_accuracy: 0.4977\n",
      "Epoch 27/50\n",
      "50000/50000 [==============================] - 5s 105us/step - loss: 0.9101 - accuracy: 0.6970 - val_loss: 1.4713 - val_accuracy: 0.4978\n",
      "Epoch 28/50\n",
      "50000/50000 [==============================] - 5s 101us/step - loss: 0.8899 - accuracy: 0.7045 - val_loss: 1.4589 - val_accuracy: 0.5008\n",
      "Epoch 29/50\n",
      "50000/50000 [==============================] - 5s 104us/step - loss: 0.8697 - accuracy: 0.7136 - val_loss: 1.4758 - val_accuracy: 0.4967\n",
      "Epoch 30/50\n",
      "50000/50000 [==============================] - 5s 105us/step - loss: 0.8488 - accuracy: 0.7212 - val_loss: 1.4825 - val_accuracy: 0.5005\n",
      "Epoch 31/50\n",
      "50000/50000 [==============================] - 5s 106us/step - loss: 0.8311 - accuracy: 0.7285 - val_loss: 1.5029 - val_accuracy: 0.4932\n",
      "Epoch 32/50\n",
      "50000/50000 [==============================] - 5s 107us/step - loss: 0.8119 - accuracy: 0.7359 - val_loss: 1.4978 - val_accuracy: 0.4987\n",
      "Epoch 33/50\n",
      "50000/50000 [==============================] - 6s 119us/step - loss: 0.7917 - accuracy: 0.7444 - val_loss: 1.4864 - val_accuracy: 0.4999\n",
      "Epoch 34/50\n",
      "50000/50000 [==============================] - 5s 106us/step - loss: 0.7725 - accuracy: 0.7540 - val_loss: 1.5039 - val_accuracy: 0.4994\n",
      "Epoch 35/50\n",
      "50000/50000 [==============================] - 5s 105us/step - loss: 0.7524 - accuracy: 0.7618 - val_loss: 1.5003 - val_accuracy: 0.5053\n",
      "Epoch 36/50\n",
      "50000/50000 [==============================] - 5s 105us/step - loss: 0.7346 - accuracy: 0.7667 - val_loss: 1.5207 - val_accuracy: 0.4986\n",
      "Epoch 37/50\n",
      "50000/50000 [==============================] - 5s 101us/step - loss: 0.7152 - accuracy: 0.7744 - val_loss: 1.5228 - val_accuracy: 0.4980\n",
      "Epoch 38/50\n",
      "50000/50000 [==============================] - 5s 99us/step - loss: 0.6945 - accuracy: 0.7827 - val_loss: 1.5354 - val_accuracy: 0.4969\n",
      "Epoch 39/50\n",
      "50000/50000 [==============================] - 5s 103us/step - loss: 0.6760 - accuracy: 0.7905 - val_loss: 1.5426 - val_accuracy: 0.4933\n",
      "Epoch 40/50\n",
      "50000/50000 [==============================] - 5s 99us/step - loss: 0.6592 - accuracy: 0.7982 - val_loss: 1.5651 - val_accuracy: 0.4945\n",
      "Epoch 41/50\n",
      "50000/50000 [==============================] - 5s 100us/step - loss: 0.6431 - accuracy: 0.8053 - val_loss: 1.5843 - val_accuracy: 0.4980\n",
      "Epoch 42/50\n",
      "50000/50000 [==============================] - 5s 102us/step - loss: 0.6254 - accuracy: 0.8092 - val_loss: 1.5652 - val_accuracy: 0.4952\n",
      "Epoch 43/50\n",
      "50000/50000 [==============================] - 5s 99us/step - loss: 0.6045 - accuracy: 0.8196 - val_loss: 1.5933 - val_accuracy: 0.4941\n",
      "Epoch 44/50\n",
      "50000/50000 [==============================] - 5s 103us/step - loss: 0.5883 - accuracy: 0.8241 - val_loss: 1.6128 - val_accuracy: 0.4902\n",
      "Epoch 45/50\n",
      "50000/50000 [==============================] - 5s 101us/step - loss: 0.5714 - accuracy: 0.8308 - val_loss: 1.6030 - val_accuracy: 0.4980\n",
      "Epoch 46/50\n"
     ]
    },
    {
     "name": "stdout",
     "output_type": "stream",
     "text": [
      "50000/50000 [==============================] - 5s 100us/step - loss: 0.5531 - accuracy: 0.8394 - val_loss: 1.6145 - val_accuracy: 0.4960\n",
      "Epoch 47/50\n",
      "50000/50000 [==============================] - 5s 100us/step - loss: 0.5369 - accuracy: 0.8450 - val_loss: 1.6444 - val_accuracy: 0.4943\n",
      "Epoch 48/50\n",
      "50000/50000 [==============================] - 5s 99us/step - loss: 0.5207 - accuracy: 0.8517 - val_loss: 1.6605 - val_accuracy: 0.4926\n",
      "Epoch 49/50\n",
      "50000/50000 [==============================] - 5s 102us/step - loss: 0.5040 - accuracy: 0.8584 - val_loss: 1.6655 - val_accuracy: 0.4907\n",
      "Epoch 50/50\n",
      "50000/50000 [==============================] - 5s 99us/step - loss: 0.4865 - accuracy: 0.8641 - val_loss: 1.6666 - val_accuracy: 0.4955\n",
      "10000/10000 [==============================] - 1s 94us/step\n"
     ]
    }
   ],
   "source": [
    "\"\"\"Code Here\n",
    "撰寫你的訓練流程並將結果用 dictionary 紀錄\n",
    "\"\"\"\n",
    "\n",
    "model = build_mlp(input_shape=x_train.shape[1:])\n",
    "model.summary()\n",
    "optimizer = keras.optimizers.SGD(lr=LEARNING_RATE, nesterov=True, momentum=MOMENTUM)\n",
    "model.compile(loss=\"categorical_crossentropy\", metrics=[\"accuracy\"], optimizer=optimizer)\n",
    "\n",
    "model.fit(x_train, y_train, \n",
    "          epochs=EPOCHS, \n",
    "          batch_size=BATCH_SIZE, \n",
    "          validation_data=(x_test, y_test), \n",
    "          shuffle=True,\n",
    "          callbacks=[model_ckpt]\n",
    "         )\n",
    "\n",
    "# Collect results\n",
    "train_loss = model.history.history[\"loss\"]\n",
    "valid_loss = model.history.history[\"val_loss\"]\n",
    "train_acc = model.history.history[\"accuracy\"]\n",
    "valid_acc = model.history.history[\"val_accuracy\"]\n",
    "\n",
    "# Load back\n",
    "model = keras.models.load_model(\"./tmp.h5\")\n",
    "loss_loadback, acc_loadback = model.evaluate(x_test, y_test)"
   ]
  },
  {
   "cell_type": "code",
   "execution_count": 9,
   "metadata": {
    "scrolled": true
   },
   "outputs": [
    {
     "data": {
      "image/png": "[encoded data removed]",
      "text/plain": [
       "<Figure size 432x288 with 1 Axes>"
      ]
     },
     "metadata": {
      "needs_background": "light"
     },
     "output_type": "display_data"
    },
    {
     "data": {
      "image/png": "[encoded data removed]",
      "text/plain": [
       "<Figure size 432x288 with 1 Axes>"
      ]
     },
     "metadata": {
      "needs_background": "light"
     },
     "output_type": "display_data"
    }
   ],
   "source": [
    "\"\"\"Code Here\n",
    "將結果繪出\n",
    "\"\"\"\n",
    "import matplotlib.pyplot as plt\n",
    "%matplotlib inline\n",
    "\n",
    "plt.plot(range(len(train_loss)), train_loss, label=\"train loss\")\n",
    "plt.plot(range(len(valid_loss)), valid_loss, label=\"valid loss\")\n",
    "plt.hlines(y=loss_loadback, xmin=0, xmax=len(train_loss), colors='r', linestyles='--')   #以 y=loss_loadback畫出水平分割線\n",
    "plt.legend()\n",
    "plt.title(\"Loss\")\n",
    "plt.show()\n",
    "\n",
    "plt.plot(range(len(train_acc)), train_acc, label=\"train accuracy\")\n",
    "plt.plot(range(len(valid_acc)), valid_acc, label=\"valid accuracy\")\n",
    "plt.hlines(y=acc_loadback, xmin=0, xmax=len(train_loss), colors='r', linestyles='--')    #以 y=acc_loadback畫出水平分割線\n",
    "plt.legend()\n",
    "plt.title(\"Accuracy\")\n",
    "plt.show()\n"
   ]
  },
  {
   "cell_type": "code",
   "execution_count": null,
   "metadata": {},
   "outputs": [],
   "source": []
  },
  {
   "cell_type": "code",
   "execution_count": 10,
   "metadata": {},
   "outputs": [],
   "source": [
    "# 載入 Callbacks\n",
    "\"\"\"Code Here\n",
    "設定 callbacks: model checkpoint\n",
    "並將監控目標設為 validation loss, 且只存最佳參數時的模型\n",
    "\"\"\"\n",
    "from keras.callbacks import ModelCheckpoint\n",
    "\n",
    "model_ckpt = ModelCheckpoint(filepath=\"./tmp.h5\",    # path to save\n",
    "                             monitor=\"val_loss\",     # target to monitor\n",
    "                             save_best_only=False)    # save best checkpoint"
   ]
  },
  {
   "cell_type": "code",
   "execution_count": 11,
   "metadata": {},
   "outputs": [
    {
     "name": "stdout",
     "output_type": "stream",
     "text": [
      "Model: \"model_2\"\n",
      "_________________________________________________________________\n",
      "Layer (type)                 Output Shape              Param #   \n",
      "=================================================================\n",
      "input_2 (InputLayer)         (None, 3072)              0         \n",
      "_________________________________________________________________\n",
      "hidden_layer1 (Dense)        (None, 512)               1573376   \n",
      "_________________________________________________________________\n",
      "batch_normalization_4 (Batch (None, 512)               2048      \n",
      "_________________________________________________________________\n",
      "hidden_layer2 (Dense)        (None, 256)               131328    \n",
      "_________________________________________________________________\n",
      "batch_normalization_5 (Batch (None, 256)               1024      \n",
      "_________________________________________________________________\n",
      "hidden_layer3 (Dense)        (None, 128)               32896     \n",
      "_________________________________________________________________\n",
      "batch_normalization_6 (Batch (None, 128)               512       \n",
      "_________________________________________________________________\n",
      "output (Dense)               (None, 10)                1290      \n",
      "=================================================================\n",
      "Total params: 1,742,474\n",
      "Trainable params: 1,740,682\n",
      "Non-trainable params: 1,792\n",
      "_________________________________________________________________\n",
      "Train on 50000 samples, validate on 10000 samples\n",
      "Epoch 1/50\n",
      "50000/50000 [==============================] - 6s 119us/step - loss: 2.1995 - accuracy: 0.2753 - val_loss: 2.0932 - val_accuracy: 0.2404\n",
      "Epoch 2/50\n",
      "50000/50000 [==============================] - 6s 115us/step - loss: 1.7363 - accuracy: 0.3957 - val_loss: 1.9418 - val_accuracy: 0.3030\n",
      "Epoch 3/50\n",
      "50000/50000 [==============================] - 5s 105us/step - loss: 1.6184 - accuracy: 0.4331 - val_loss: 1.8001 - val_accuracy: 0.3741\n",
      "Epoch 4/50\n",
      "50000/50000 [==============================] - 6s 111us/step - loss: 1.5487 - accuracy: 0.4567 - val_loss: 1.7077 - val_accuracy: 0.4143\n",
      "Epoch 5/50\n",
      "50000/50000 [==============================] - 6s 113us/step - loss: 1.4935 - accuracy: 0.4767 - val_loss: 1.6381 - val_accuracy: 0.4356\n",
      "Epoch 6/50\n",
      "50000/50000 [==============================] - 5s 103us/step - loss: 1.4492 - accuracy: 0.4914 - val_loss: 1.5878 - val_accuracy: 0.4505\n",
      "Epoch 7/50\n",
      "50000/50000 [==============================] - 5s 102us/step - loss: 1.4082 - accuracy: 0.5057 - val_loss: 1.5551 - val_accuracy: 0.4566\n",
      "Epoch 8/50\n",
      "50000/50000 [==============================] - 5s 104us/step - loss: 1.3732 - accuracy: 0.5190 - val_loss: 1.5224 - val_accuracy: 0.4636\n",
      "Epoch 9/50\n",
      "50000/50000 [==============================] - 5s 103us/step - loss: 1.3422 - accuracy: 0.5310 - val_loss: 1.5075 - val_accuracy: 0.4654\n",
      "Epoch 10/50\n",
      "50000/50000 [==============================] - 5s 102us/step - loss: 1.3104 - accuracy: 0.5431 - val_loss: 1.4966 - val_accuracy: 0.4689\n",
      "Epoch 11/50\n",
      "50000/50000 [==============================] - 5s 104us/step - loss: 1.2813 - accuracy: 0.5516 - val_loss: 1.4850 - val_accuracy: 0.4763\n",
      "Epoch 12/50\n",
      "50000/50000 [==============================] - 5s 102us/step - loss: 1.2572 - accuracy: 0.5614 - val_loss: 1.4888 - val_accuracy: 0.4754\n",
      "Epoch 13/50\n",
      "50000/50000 [==============================] - 5s 102us/step - loss: 1.2299 - accuracy: 0.5725 - val_loss: 1.4802 - val_accuracy: 0.4747\n",
      "Epoch 14/50\n",
      "50000/50000 [==============================] - 6s 111us/step - loss: 1.2060 - accuracy: 0.5809 - val_loss: 1.4755 - val_accuracy: 0.4774\n",
      "Epoch 15/50\n",
      "50000/50000 [==============================] - 6s 119us/step - loss: 1.1822 - accuracy: 0.5881 - val_loss: 1.4602 - val_accuracy: 0.4826\n",
      "Epoch 16/50\n",
      "50000/50000 [==============================] - 6s 114us/step - loss: 1.1574 - accuracy: 0.5979 - val_loss: 1.4570 - val_accuracy: 0.4881\n",
      "Epoch 17/50\n",
      "50000/50000 [==============================] - 6s 117us/step - loss: 1.1360 - accuracy: 0.6079 - val_loss: 1.4649 - val_accuracy: 0.4818\n",
      "Epoch 18/50\n",
      "50000/50000 [==============================] - 6s 124us/step - loss: 1.1134 - accuracy: 0.6149 - val_loss: 1.4708 - val_accuracy: 0.4776\n",
      "Epoch 19/50\n",
      "50000/50000 [==============================] - 6s 117us/step - loss: 1.0910 - accuracy: 0.6268 - val_loss: 1.4645 - val_accuracy: 0.4813\n",
      "Epoch 20/50\n",
      "50000/50000 [==============================] - 5s 107us/step - loss: 1.0686 - accuracy: 0.6322 - val_loss: 1.4549 - val_accuracy: 0.4887\n",
      "Epoch 21/50\n",
      "50000/50000 [==============================] - 6s 111us/step - loss: 1.0456 - accuracy: 0.6423 - val_loss: 1.4521 - val_accuracy: 0.4896\n",
      "Epoch 22/50\n",
      "50000/50000 [==============================] - 5s 103us/step - loss: 1.0231 - accuracy: 0.6499 - val_loss: 1.4586 - val_accuracy: 0.4884\n",
      "Epoch 23/50\n",
      "50000/50000 [==============================] - 5s 105us/step - loss: 1.0045 - accuracy: 0.6590 - val_loss: 1.4711 - val_accuracy: 0.4876\n",
      "Epoch 24/50\n",
      "50000/50000 [==============================] - 5s 101us/step - loss: 0.9835 - accuracy: 0.6654 - val_loss: 1.4719 - val_accuracy: 0.4861\n",
      "Epoch 25/50\n",
      "50000/50000 [==============================] - 5s 102us/step - loss: 0.9641 - accuracy: 0.6724 - val_loss: 1.4571 - val_accuracy: 0.4951\n",
      "Epoch 26/50\n",
      "50000/50000 [==============================] - 6s 113us/step - loss: 0.9408 - accuracy: 0.6806 - val_loss: 1.4692 - val_accuracy: 0.4891\n",
      "Epoch 27/50\n",
      "50000/50000 [==============================] - 6s 111us/step - loss: 0.9198 - accuracy: 0.6894 - val_loss: 1.4714 - val_accuracy: 0.4890\n",
      "Epoch 28/50\n",
      "50000/50000 [==============================] - 5s 103us/step - loss: 0.9016 - accuracy: 0.6963 - val_loss: 1.4891 - val_accuracy: 0.4882\n",
      "Epoch 29/50\n",
      "50000/50000 [==============================] - 5s 103us/step - loss: 0.8833 - accuracy: 0.7045 - val_loss: 1.4940 - val_accuracy: 0.4908\n",
      "Epoch 30/50\n",
      "50000/50000 [==============================] - 5s 100us/step - loss: 0.8639 - accuracy: 0.7128 - val_loss: 1.4773 - val_accuracy: 0.4957\n",
      "Epoch 31/50\n",
      "50000/50000 [==============================] - 5s 100us/step - loss: 0.8415 - accuracy: 0.7217 - val_loss: 1.4874 - val_accuracy: 0.4925\n",
      "Epoch 32/50\n",
      "50000/50000 [==============================] - 5s 103us/step - loss: 0.8225 - accuracy: 0.7289 - val_loss: 1.4901 - val_accuracy: 0.4916\n",
      "Epoch 33/50\n",
      "50000/50000 [==============================] - 5s 100us/step - loss: 0.8018 - accuracy: 0.7371 - val_loss: 1.5099 - val_accuracy: 0.4901\n",
      "Epoch 34/50\n",
      "50000/50000 [==============================] - 5s 100us/step - loss: 0.7847 - accuracy: 0.7441 - val_loss: 1.5095 - val_accuracy: 0.4905\n",
      "Epoch 35/50\n",
      "50000/50000 [==============================] - 5s 103us/step - loss: 0.7674 - accuracy: 0.7499 - val_loss: 1.5250 - val_accuracy: 0.4902\n",
      "Epoch 36/50\n",
      "50000/50000 [==============================] - 5s 100us/step - loss: 0.7452 - accuracy: 0.7594 - val_loss: 1.5190 - val_accuracy: 0.4929\n",
      "Epoch 37/50\n",
      "50000/50000 [==============================] - 5s 103us/step - loss: 0.7284 - accuracy: 0.7665 - val_loss: 1.5478 - val_accuracy: 0.4876\n",
      "Epoch 38/50\n",
      "50000/50000 [==============================] - 5s 105us/step - loss: 0.7091 - accuracy: 0.7748 - val_loss: 1.5427 - val_accuracy: 0.4852\n",
      "Epoch 39/50\n",
      "50000/50000 [==============================] - 5s 103us/step - loss: 0.6895 - accuracy: 0.7819 - val_loss: 1.5360 - val_accuracy: 0.4939\n",
      "Epoch 40/50\n",
      "50000/50000 [==============================] - 5s 103us/step - loss: 0.6714 - accuracy: 0.7904 - val_loss: 1.5792 - val_accuracy: 0.4851\n",
      "Epoch 41/50\n",
      "50000/50000 [==============================] - 5s 105us/step - loss: 0.6553 - accuracy: 0.7953 - val_loss: 1.5589 - val_accuracy: 0.4899\n",
      "Epoch 42/50\n",
      "50000/50000 [==============================] - 5s 100us/step - loss: 0.6382 - accuracy: 0.8033 - val_loss: 1.5651 - val_accuracy: 0.4874\n",
      "Epoch 43/50\n",
      "50000/50000 [==============================] - 5s 101us/step - loss: 0.6180 - accuracy: 0.8109 - val_loss: 1.6001 - val_accuracy: 0.4876\n",
      "Epoch 44/50\n",
      "50000/50000 [==============================] - 5s 103us/step - loss: 0.6022 - accuracy: 0.8164 - val_loss: 1.6021 - val_accuracy: 0.4920\n",
      "Epoch 45/50\n",
      "50000/50000 [==============================] - 5s 100us/step - loss: 0.5811 - accuracy: 0.8264 - val_loss: 1.6050 - val_accuracy: 0.4843\n",
      "Epoch 46/50\n"
     ]
    },
    {
     "name": "stdout",
     "output_type": "stream",
     "text": [
      "50000/50000 [==============================] - 5s 100us/step - loss: 0.5657 - accuracy: 0.8320 - val_loss: 1.6095 - val_accuracy: 0.4896\n",
      "Epoch 47/50\n",
      "50000/50000 [==============================] - 5s 103us/step - loss: 0.5487 - accuracy: 0.8380 - val_loss: 1.6470 - val_accuracy: 0.4861\n",
      "Epoch 48/50\n",
      "50000/50000 [==============================] - 5s 100us/step - loss: 0.5334 - accuracy: 0.8446 - val_loss: 1.6467 - val_accuracy: 0.4862\n",
      "Epoch 49/50\n",
      "50000/50000 [==============================] - 5s 100us/step - loss: 0.5150 - accuracy: 0.8520 - val_loss: 1.6606 - val_accuracy: 0.4878\n",
      "Epoch 50/50\n",
      "50000/50000 [==============================] - 5s 101us/step - loss: 0.4973 - accuracy: 0.8601 - val_loss: 1.6795 - val_accuracy: 0.4811\n",
      "10000/10000 [==============================] - 1s 93us/step\n"
     ]
    }
   ],
   "source": [
    "\"\"\"Code Here\n",
    "撰寫你的訓練流程並將結果用 dictionary 紀錄\n",
    "\"\"\"\n",
    "\n",
    "model = build_mlp(input_shape=x_train.shape[1:])\n",
    "model.summary()\n",
    "optimizer = keras.optimizers.SGD(lr=LEARNING_RATE, nesterov=True, momentum=MOMENTUM)\n",
    "model.compile(loss=\"categorical_crossentropy\", metrics=[\"accuracy\"], optimizer=optimizer)\n",
    "\n",
    "model.fit(x_train, y_train, \n",
    "          epochs=EPOCHS, \n",
    "          batch_size=BATCH_SIZE, \n",
    "          validation_data=(x_test, y_test), \n",
    "          shuffle=True,\n",
    "          callbacks=[model_ckpt]\n",
    "         )\n",
    "\n",
    "# Collect results\n",
    "train_loss = model.history.history[\"loss\"]\n",
    "valid_loss = model.history.history[\"val_loss\"]\n",
    "train_acc = model.history.history[\"accuracy\"]\n",
    "valid_acc = model.history.history[\"val_accuracy\"]\n",
    "\n",
    "# Load back\n",
    "model = keras.models.load_model(\"./tmp.h5\")\n",
    "loss_loadback, acc_loadback = model.evaluate(x_test, y_test)"
   ]
  },
  {
   "cell_type": "code",
   "execution_count": 12,
   "metadata": {},
   "outputs": [
    {
     "data": {
      "image/png": "[encoded data removed]",
      "text/plain": [
       "<Figure size 432x288 with 1 Axes>"
      ]
     },
     "metadata": {
      "needs_background": "light"
     },
     "output_type": "display_data"
    },
    {
     "data": {
      "image/png": "[encoded data removed]",
      "text/plain": [
       "<Figure size 432x288 with 1 Axes>"
      ]
     },
     "metadata": {
      "needs_background": "light"
     },
     "output_type": "display_data"
    }
   ],
   "source": [
    "\"\"\"Code Here\n",
    "將結果繪出\n",
    "\"\"\"\n",
    "import matplotlib.pyplot as plt\n",
    "%matplotlib inline\n",
    "\n",
    "plt.plot(range(len(train_loss)), train_loss, label=\"train loss\")\n",
    "plt.plot(range(len(valid_loss)), valid_loss, label=\"valid loss\")\n",
    "plt.hlines(y=loss_loadback, xmin=0, xmax=len(train_loss), colors='r', linestyles='--')    #以 y=loss_loadback畫出水平分割線\n",
    "plt.legend()\n",
    "plt.title(\"Loss\")\n",
    "plt.show()\n",
    "\n",
    "plt.plot(range(len(train_acc)), train_acc, label=\"train accuracy\")\n",
    "plt.plot(range(len(valid_acc)), valid_acc, label=\"valid accuracy\")\n",
    "plt.hlines(y=acc_loadback, xmin=0, xmax=len(train_loss), colors='r', linestyles='--')     #以 y=acc_loadback畫出水平分割線\n",
    "plt.legend()\n",
    "plt.title(\"Accuracy\")\n",
    "plt.show()"
   ]
  }
 ],
 "metadata": {
  "kernelspec": {
   "display_name": "Python 3",
   "language": "python",
   "name": "python3"
  },
  "language_info": {
   "codemirror_mode": {
    "name": "ipython",
    "version": 3
   },
   "file_extension": ".py",
   "mimetype": "text/x-python",
   "name": "python",
   "nbconvert_exporter": "python",
   "pygments_lexer": "ipython3",
   "version": "3.7.4"
  }
 },
 "nbformat": 4,
 "nbformat_minor": 2
}
