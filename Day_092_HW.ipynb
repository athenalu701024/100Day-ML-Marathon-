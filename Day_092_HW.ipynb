{
 "cells": [
  {
   "cell_type": "markdown",
   "metadata": {},
   "source": [
    "## 請閱讀以下文獻，理解 CNN 原理後回答問題\n",
    "\n",
    "卷積神經網路原理 - 中文\n",
    "\n",
    "CNN for beginner’s guide\n",
    "\n",
    "1. 若使用總共 128 個濾波器 (filters)，對一張 256x256 的影像做完卷積後，共會得到幾張特徵圖 (feature maps)？\n",
    "\n",
    "2. 卷積神經網路中，濾波器的大小 (3x3 or 5x5) 與內部數字的值 (value) 是怎麼決定的呢？"
   ]
  },
  {
   "cell_type": "code",
   "execution_count": 1,
   "metadata": {},
   "outputs": [
    {
     "data": {
      "text/plain": [
       "'\\n1. \\n得到128張特徵圖，一個濾波器一張\\n\\n2. \\n濾波器的大小：為超參數 (hyper-parameter)，是我們定義的\\n內部的值：為參數 (weights)，是透過訓練資料學習而來\\n'"
      ]
     },
     "execution_count": 1,
     "metadata": {},
     "output_type": "execute_result"
    }
   ],
   "source": [
    "'''\n",
    "1. \n",
    "得到128張特徵圖，一個濾波器一張\n",
    "\n",
    "2. \n",
    "濾波器的大小：為超參數 (hyper-parameter)，是我們定義的\n",
    "內部的值：為參數 (weights)，是透過訓練資料學習而來\n",
    "'''"
   ]
  }
 ],
 "metadata": {
  "kernelspec": {
   "display_name": "Python 3",
   "language": "python",
   "name": "python3"
  },
  "language_info": {
   "codemirror_mode": {
    "name": "ipython",
    "version": 3
   },
   "file_extension": ".py",
   "mimetype": "text/x-python",
   "name": "python",
   "nbconvert_exporter": "python",
   "pygments_lexer": "ipython3",
   "version": "3.7.4"
  }
 },
 "nbformat": 4,
 "nbformat_minor": 2
}
