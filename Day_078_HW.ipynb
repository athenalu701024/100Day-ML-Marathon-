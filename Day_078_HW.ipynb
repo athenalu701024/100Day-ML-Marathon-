{
 "cells": [
  {
   "cell_type": "markdown",
   "metadata": {},
   "source": [
    "## Work\n",
    "1. 請嘗試將 preproc_x 替換成以每筆資料的 min/max 進行標準化至 -1 ~ 1 間，再進行訓練\n",
    "2. 請嘗試將 mlp 疊更深 (e.g 5~10 層)，進行訓練後觀察 learning curve 的走勢\n",
    "3. (optional) 請改用 GPU 進行訓練 (如果你有 GPU 的話)，比較使用 CPU 與 GPU 的訓練速度"
   ]
  },
  {
   "cell_type": "code",
   "execution_count": 1,
   "metadata": {},
   "outputs": [],
   "source": [
    "## \n",
    "\"\"\"\n",
    "Your code here (optional)\n",
    "確認硬體資源\n",
    "\"\"\"\n"
   ]
  },
  {
   "cell_type": "code",
   "execution_count": 1,
   "metadata": {},
   "outputs": [
    {
     "name": "stderr",
     "output_type": "stream",
     "text": [
      "Using TensorFlow backend.\n"
     ]
    }
   ],
   "source": [
    "import os\n",
    "import keras\n",
    "\n",
    "# 請嘗試設定 GPU：os.environ\n",
    "os.environ[\"CUDA_VISIBLE_DEVICES\"] = \"0\""
   ]
  },
  {
   "cell_type": "code",
   "execution_count": 2,
   "metadata": {},
   "outputs": [],
   "source": [
    "# 從 Keras 的內建功能中，取得 train 與 test 資料集\n",
    "train, test = keras.datasets.cifar10.load_data()"
   ]
  },
  {
   "cell_type": "markdown",
   "metadata": {},
   "source": [
    "Work 1 - 請嘗試將 preproc_x 替換成以每筆資料的 min/max 進行標準化至 -1 ~ 1 間，再進行訓練\n",
    "\n",
    "原範例寫法：\n",
    "\n",
    "def preproc_x(x, flatten=True):\n",
    "    x = x / 255.\n",
    "    if flatten:\n",
    "        x = x.reshape((len(x), -1))\n",
    "    return x"
   ]
  },
  {
   "cell_type": "code",
   "execution_count": 3,
   "metadata": {},
   "outputs": [],
   "source": [
    "## 資料前處理\n",
    "\"\"\"\n",
    "Your code here\n",
    "\"\"\"\n",
    "def preproc_x(x, flatten=True):\n",
    "    x = 2*(((x - x.min()) / (x.max() - x.min()))-0.5)\n",
    "    if flatten:\n",
    "        x = x.reshape((len(x), -1))\n",
    "    return x\n",
    "\n",
    "def preproc_y(y, num_classes=10):\n",
    "    if y.shape[-1] == 1:\n",
    "        y = keras.utils.to_categorical(y, num_classes)\n",
    "    return y    "
   ]
  },
  {
   "cell_type": "code",
   "execution_count": 4,
   "metadata": {},
   "outputs": [],
   "source": [
    "x_train, y_train = train\n",
    "x_test, y_test = test\n",
    "\n",
    "# Preproc the inputs\n",
    "# 資料前處理 - X 標準化\n",
    "x_train = preproc_x(x_train)\n",
    "x_test = preproc_x(x_test)\n",
    "\n",
    "# Preprc the outputs\n",
    "# 資料前處理 -Y 轉成 onehot\n",
    "y_train = preproc_y(y_train)\n",
    "y_test = preproc_y(y_test)"
   ]
  },
  {
   "cell_type": "markdown",
   "metadata": {},
   "source": [
    "Work2 - 請嘗試將 mlp 疊更深 (e.g 5~10 層)，進行訓練後觀察 learning curve 的走勢"
   ]
  },
  {
   "cell_type": "code",
   "execution_count": 5,
   "metadata": {},
   "outputs": [],
   "source": [
    "\"\"\"Code Here\n",
    "建立你的神經網路\n",
    "\"\"\"\n",
    "def build_mlp(input_shape, output_units=10, num_neurons=[512, 256, 128, 128, 256, 128, 64]):\n",
    "    input_layer = keras.layers.Input(input_shape)\n",
    "    \n",
    "    for i, n_units in enumerate(num_neurons):\n",
    "        if i == 0:\n",
    "            x = keras.layers.Dense(units=n_units, activation=\"relu\", name=\"hidden_layer\"+str(i+1))(input_layer)\n",
    "        else:\n",
    "            x = keras.layers.Dense(units=n_units, activation=\"relu\", name=\"hidden_layer\"+str(i+1))(x)\n",
    "    \n",
    "    out = keras.layers.Dense(units=output_units, activation=\"softmax\", name=\"output\")(x)\n",
    "    \n",
    "    model = keras.models.Model(inputs=[input_layer], outputs=[out])\n",
    "    return model"
   ]
  },
  {
   "cell_type": "code",
   "execution_count": 6,
   "metadata": {},
   "outputs": [
    {
     "name": "stdout",
     "output_type": "stream",
     "text": [
      "Model: \"model_1\"\n",
      "_________________________________________________________________\n",
      "Layer (type)                 Output Shape              Param #   \n",
      "=================================================================\n",
      "input_1 (InputLayer)         (None, 3072)              0         \n",
      "_________________________________________________________________\n",
      "hidden_layer1 (Dense)        (None, 512)               1573376   \n",
      "_________________________________________________________________\n",
      "hidden_layer2 (Dense)        (None, 256)               131328    \n",
      "_________________________________________________________________\n",
      "hidden_layer3 (Dense)        (None, 128)               32896     \n",
      "_________________________________________________________________\n",
      "hidden_layer4 (Dense)        (None, 128)               16512     \n",
      "_________________________________________________________________\n",
      "hidden_layer5 (Dense)        (None, 256)               33024     \n",
      "_________________________________________________________________\n",
      "hidden_layer6 (Dense)        (None, 128)               32896     \n",
      "_________________________________________________________________\n",
      "hidden_layer7 (Dense)        (None, 64)                8256      \n",
      "_________________________________________________________________\n",
      "output (Dense)               (None, 10)                650       \n",
      "=================================================================\n",
      "Total params: 1,828,938\n",
      "Trainable params: 1,828,938\n",
      "Non-trainable params: 0\n",
      "_________________________________________________________________\n"
     ]
    }
   ],
   "source": [
    "model = build_mlp(input_shape=x_train.shape[1:])\n",
    "model.summary()"
   ]
  },
  {
   "cell_type": "code",
   "execution_count": 7,
   "metadata": {},
   "outputs": [],
   "source": [
    "## 超參數設定\n",
    "LEARNING_RATE = 0.001\n",
    "EPOCHS = 100\n",
    "BATCH_SIZE = 256"
   ]
  },
  {
   "cell_type": "code",
   "execution_count": 8,
   "metadata": {},
   "outputs": [],
   "source": [
    "optimizer = keras.optimizers.Adam(lr=LEARNING_RATE)\n",
    "model.compile(loss=\"categorical_crossentropy\", metrics=[\"accuracy\"], optimizer=optimizer)"
   ]
  },
  {
   "cell_type": "code",
   "execution_count": 9,
   "metadata": {},
   "outputs": [
    {
     "name": "stdout",
     "output_type": "stream",
     "text": [
      "Train on 50000 samples, validate on 10000 samples\n",
      "Epoch 1/100\n",
      "50000/50000 [==============================] - 11s 213us/step - loss: 1.7135 - accuracy: 0.3887 - val_loss: 1.5515 - val_accuracy: 0.4458\n",
      "Epoch 2/100\n",
      "50000/50000 [==============================] - 11s 211us/step - loss: 1.4850 - accuracy: 0.4756 - val_loss: 1.4420 - val_accuracy: 0.4901\n",
      "Epoch 3/100\n",
      "50000/50000 [==============================] - 10s 205us/step - loss: 1.3686 - accuracy: 0.5150 - val_loss: 1.3976 - val_accuracy: 0.5056\n",
      "Epoch 4/100\n",
      "50000/50000 [==============================] - 11s 215us/step - loss: 1.2670 - accuracy: 0.5518 - val_loss: 1.3944 - val_accuracy: 0.5112\n",
      "Epoch 5/100\n",
      "50000/50000 [==============================] - 11s 213us/step - loss: 1.1903 - accuracy: 0.5806 - val_loss: 1.3800 - val_accuracy: 0.5130\n",
      "Epoch 6/100\n",
      "50000/50000 [==============================] - 11s 217us/step - loss: 1.1118 - accuracy: 0.6068 - val_loss: 1.3622 - val_accuracy: 0.5375\n",
      "Epoch 7/100\n",
      "50000/50000 [==============================] - 11s 216us/step - loss: 1.0435 - accuracy: 0.6303 - val_loss: 1.3479 - val_accuracy: 0.5365\n",
      "Epoch 8/100\n",
      "50000/50000 [==============================] - 11s 214us/step - loss: 0.9702 - accuracy: 0.6556 - val_loss: 1.3707 - val_accuracy: 0.5389\n",
      "Epoch 9/100\n",
      "50000/50000 [==============================] - 11s 214us/step - loss: 0.9003 - accuracy: 0.6808 - val_loss: 1.4348 - val_accuracy: 0.5367\n",
      "Epoch 10/100\n",
      "50000/50000 [==============================] - 11s 212us/step - loss: 0.8390 - accuracy: 0.7021 - val_loss: 1.4852 - val_accuracy: 0.5359\n",
      "Epoch 11/100\n",
      "50000/50000 [==============================] - 11s 215us/step - loss: 0.7872 - accuracy: 0.7181 - val_loss: 1.4500 - val_accuracy: 0.5463\n",
      "Epoch 12/100\n",
      "50000/50000 [==============================] - 11s 215us/step - loss: 0.7184 - accuracy: 0.7437 - val_loss: 1.5494 - val_accuracy: 0.5478\n",
      "Epoch 13/100\n",
      "50000/50000 [==============================] - 11s 222us/step - loss: 0.6697 - accuracy: 0.7630 - val_loss: 1.5875 - val_accuracy: 0.5391\n",
      "Epoch 14/100\n",
      "50000/50000 [==============================] - 11s 218us/step - loss: 0.6136 - accuracy: 0.7848 - val_loss: 1.6905 - val_accuracy: 0.5357\n",
      "Epoch 15/100\n",
      "50000/50000 [==============================] - 11s 219us/step - loss: 0.5687 - accuracy: 0.7968 - val_loss: 1.7511 - val_accuracy: 0.5339\n",
      "Epoch 16/100\n",
      "50000/50000 [==============================] - 11s 217us/step - loss: 0.5280 - accuracy: 0.8122 - val_loss: 1.7534 - val_accuracy: 0.5395\n",
      "Epoch 17/100\n",
      "50000/50000 [==============================] - 10s 209us/step - loss: 0.4849 - accuracy: 0.8278 - val_loss: 1.8383 - val_accuracy: 0.5353\n",
      "Epoch 18/100\n",
      "50000/50000 [==============================] - 10s 207us/step - loss: 0.4502 - accuracy: 0.8407 - val_loss: 1.9930 - val_accuracy: 0.5313\n",
      "Epoch 19/100\n",
      "50000/50000 [==============================] - 10s 205us/step - loss: 0.4151 - accuracy: 0.8536 - val_loss: 2.0943 - val_accuracy: 0.5238\n",
      "Epoch 20/100\n",
      "50000/50000 [==============================] - 11s 213us/step - loss: 0.3935 - accuracy: 0.8618 - val_loss: 2.1637 - val_accuracy: 0.5402\n",
      "Epoch 21/100\n",
      "50000/50000 [==============================] - 11s 213us/step - loss: 0.3754 - accuracy: 0.8673 - val_loss: 1.9743 - val_accuracy: 0.5289\n",
      "Epoch 22/100\n",
      "50000/50000 [==============================] - 10s 210us/step - loss: 0.3412 - accuracy: 0.8804 - val_loss: 2.1768 - val_accuracy: 0.5330\n",
      "Epoch 23/100\n",
      "50000/50000 [==============================] - 11s 213us/step - loss: 0.3289 - accuracy: 0.8859 - val_loss: 2.2077 - val_accuracy: 0.5334\n",
      "Epoch 24/100\n",
      "50000/50000 [==============================] - 11s 213us/step - loss: 0.2969 - accuracy: 0.8970 - val_loss: 2.3200 - val_accuracy: 0.5360\n",
      "Epoch 25/100\n",
      "50000/50000 [==============================] - 11s 213us/step - loss: 0.2851 - accuracy: 0.9008 - val_loss: 2.3504 - val_accuracy: 0.5311\n",
      "Epoch 26/100\n",
      "50000/50000 [==============================] - 11s 220us/step - loss: 0.2696 - accuracy: 0.9064 - val_loss: 2.4821 - val_accuracy: 0.5373\n",
      "Epoch 27/100\n",
      "50000/50000 [==============================] - 11s 227us/step - loss: 0.2656 - accuracy: 0.9086 - val_loss: 2.4412 - val_accuracy: 0.5352\n",
      "Epoch 28/100\n",
      "50000/50000 [==============================] - 11s 215us/step - loss: 0.2476 - accuracy: 0.9153 - val_loss: 2.5461 - val_accuracy: 0.5334\n",
      "Epoch 29/100\n",
      "50000/50000 [==============================] - 11s 216us/step - loss: 0.2262 - accuracy: 0.9223 - val_loss: 2.6342 - val_accuracy: 0.5291\n",
      "Epoch 30/100\n",
      "50000/50000 [==============================] - 11s 217us/step - loss: 0.2201 - accuracy: 0.9237 - val_loss: 2.6332 - val_accuracy: 0.5390\n",
      "Epoch 31/100\n",
      "50000/50000 [==============================] - 11s 216us/step - loss: 0.2106 - accuracy: 0.9272 - val_loss: 2.8197 - val_accuracy: 0.5388\n",
      "Epoch 32/100\n",
      "50000/50000 [==============================] - 11s 213us/step - loss: 0.2156 - accuracy: 0.9275 - val_loss: 2.7076 - val_accuracy: 0.5266\n",
      "Epoch 33/100\n",
      "50000/50000 [==============================] - 11s 213us/step - loss: 0.2009 - accuracy: 0.9312 - val_loss: 2.7658 - val_accuracy: 0.5303\n",
      "Epoch 34/100\n",
      "50000/50000 [==============================] - 11s 210us/step - loss: 0.1824 - accuracy: 0.9370 - val_loss: 2.6965 - val_accuracy: 0.5393\n",
      "Epoch 35/100\n",
      "50000/50000 [==============================] - 11s 216us/step - loss: 0.1743 - accuracy: 0.9411 - val_loss: 2.9800 - val_accuracy: 0.5387\n",
      "Epoch 36/100\n",
      "50000/50000 [==============================] - 11s 216us/step - loss: 0.1811 - accuracy: 0.9389 - val_loss: 2.8342 - val_accuracy: 0.5356\n",
      "Epoch 37/100\n",
      "50000/50000 [==============================] - 11s 215us/step - loss: 0.1763 - accuracy: 0.9394 - val_loss: 2.7851 - val_accuracy: 0.5286\n",
      "Epoch 38/100\n",
      "50000/50000 [==============================] - 11s 214us/step - loss: 0.1682 - accuracy: 0.9421 - val_loss: 3.0389 - val_accuracy: 0.5337\n",
      "Epoch 39/100\n",
      "50000/50000 [==============================] - 11s 216us/step - loss: 0.1654 - accuracy: 0.9450 - val_loss: 3.0421 - val_accuracy: 0.5337\n",
      "Epoch 40/100\n",
      "50000/50000 [==============================] - 11s 215us/step - loss: 0.1641 - accuracy: 0.9438 - val_loss: 2.9390 - val_accuracy: 0.5366\n",
      "Epoch 41/100\n",
      "50000/50000 [==============================] - 11s 210us/step - loss: 0.1557 - accuracy: 0.9474 - val_loss: 3.1741 - val_accuracy: 0.5311\n",
      "Epoch 42/100\n",
      "50000/50000 [==============================] - 11s 212us/step - loss: 0.1439 - accuracy: 0.9517 - val_loss: 3.1141 - val_accuracy: 0.5340\n",
      "Epoch 43/100\n",
      "50000/50000 [==============================] - 11s 218us/step - loss: 0.1466 - accuracy: 0.9508 - val_loss: 3.0739 - val_accuracy: 0.5338\n",
      "Epoch 44/100\n",
      "50000/50000 [==============================] - 11s 215us/step - loss: 0.1506 - accuracy: 0.9495 - val_loss: 2.8838 - val_accuracy: 0.5367\n",
      "Epoch 45/100\n",
      "50000/50000 [==============================] - 10s 198us/step - loss: 0.1421 - accuracy: 0.9520 - val_loss: 3.0694 - val_accuracy: 0.5297\n",
      "Epoch 46/100\n",
      "50000/50000 [==============================] - 10s 190us/step - loss: 0.1347 - accuracy: 0.9542 - val_loss: 3.2080 - val_accuracy: 0.5307\n",
      "Epoch 47/100\n",
      "50000/50000 [==============================] - 10s 194us/step - loss: 0.1417 - accuracy: 0.9514 - val_loss: 2.9843 - val_accuracy: 0.5332\n",
      "Epoch 48/100\n",
      "50000/50000 [==============================] - 10s 193us/step - loss: 0.1392 - accuracy: 0.9534 - val_loss: 3.1610 - val_accuracy: 0.5336\n",
      "Epoch 49/100\n",
      "50000/50000 [==============================] - 10s 190us/step - loss: 0.1338 - accuracy: 0.9554 - val_loss: 3.3567 - val_accuracy: 0.5291\n",
      "Epoch 50/100\n",
      "50000/50000 [==============================] - 10s 193us/step - loss: 0.1229 - accuracy: 0.9592 - val_loss: 2.9486 - val_accuracy: 0.5295\n",
      "Epoch 51/100\n",
      "50000/50000 [==============================] - 10s 190us/step - loss: 0.1184 - accuracy: 0.9602 - val_loss: 3.3916 - val_accuracy: 0.5351\n",
      "Epoch 52/100\n",
      "50000/50000 [==============================] - 10s 194us/step - loss: 0.1287 - accuracy: 0.9572 - val_loss: 3.1498 - val_accuracy: 0.5319\n",
      "Epoch 53/100\n",
      "50000/50000 [==============================] - 10s 196us/step - loss: 0.1231 - accuracy: 0.9599 - val_loss: 3.2337 - val_accuracy: 0.5331\n",
      "Epoch 54/100\n",
      "50000/50000 [==============================] - 10s 191us/step - loss: 0.1018 - accuracy: 0.9659 - val_loss: 3.4305 - val_accuracy: 0.5326\n"
     ]
    },
    {
     "name": "stdout",
     "output_type": "stream",
     "text": [
      "Epoch 55/100\n",
      "50000/50000 [==============================] - 10s 195us/step - loss: 0.1139 - accuracy: 0.9626 - val_loss: 3.2616 - val_accuracy: 0.5348\n",
      "Epoch 56/100\n",
      "50000/50000 [==============================] - 10s 191us/step - loss: 0.1106 - accuracy: 0.9639 - val_loss: 3.2263 - val_accuracy: 0.5371\n",
      "Epoch 57/100\n",
      "50000/50000 [==============================] - 11s 214us/step - loss: 0.1046 - accuracy: 0.9651 - val_loss: 3.5147 - val_accuracy: 0.5373\n",
      "Epoch 58/100\n",
      "50000/50000 [==============================] - 10s 209us/step - loss: 0.1082 - accuracy: 0.9633 - val_loss: 3.1865 - val_accuracy: 0.5313\n",
      "Epoch 59/100\n",
      "50000/50000 [==============================] - 10s 205us/step - loss: 0.1103 - accuracy: 0.9628 - val_loss: 3.4208 - val_accuracy: 0.5296\n",
      "Epoch 60/100\n",
      "50000/50000 [==============================] - 10s 209us/step - loss: 0.1127 - accuracy: 0.9627 - val_loss: 3.1483 - val_accuracy: 0.5253\n",
      "Epoch 61/100\n",
      "50000/50000 [==============================] - 10s 208us/step - loss: 0.1130 - accuracy: 0.9622 - val_loss: 3.1916 - val_accuracy: 0.5300\n",
      "Epoch 62/100\n",
      "50000/50000 [==============================] - 10s 207us/step - loss: 0.1003 - accuracy: 0.9659 - val_loss: 3.1891 - val_accuracy: 0.5304\n",
      "Epoch 63/100\n",
      "50000/50000 [==============================] - 10s 209us/step - loss: 0.1004 - accuracy: 0.9663 - val_loss: 3.3391 - val_accuracy: 0.5325\n",
      "Epoch 64/100\n",
      "50000/50000 [==============================] - 11s 212us/step - loss: 0.1006 - accuracy: 0.9665 - val_loss: 3.3879 - val_accuracy: 0.5363\n",
      "Epoch 65/100\n",
      "50000/50000 [==============================] - 10s 209us/step - loss: 0.0963 - accuracy: 0.9685 - val_loss: 3.4453 - val_accuracy: 0.5321\n",
      "Epoch 66/100\n",
      "50000/50000 [==============================] - 11s 220us/step - loss: 0.1000 - accuracy: 0.9667 - val_loss: 3.2797 - val_accuracy: 0.5379\n",
      "Epoch 67/100\n",
      "50000/50000 [==============================] - 11s 215us/step - loss: 0.0945 - accuracy: 0.9689 - val_loss: 3.4066 - val_accuracy: 0.5315\n",
      "Epoch 68/100\n",
      "50000/50000 [==============================] - 11s 213us/step - loss: 0.1047 - accuracy: 0.9652 - val_loss: 3.3698 - val_accuracy: 0.5344\n",
      "Epoch 69/100\n",
      "50000/50000 [==============================] - 11s 215us/step - loss: 0.0928 - accuracy: 0.9691 - val_loss: 3.6104 - val_accuracy: 0.5303\n",
      "Epoch 70/100\n",
      "50000/50000 [==============================] - 11s 217us/step - loss: 0.0959 - accuracy: 0.9685 - val_loss: 3.4742 - val_accuracy: 0.5287\n",
      "Epoch 71/100\n",
      "50000/50000 [==============================] - 11s 213us/step - loss: 0.0848 - accuracy: 0.9718 - val_loss: 3.5285 - val_accuracy: 0.5307\n",
      "Epoch 72/100\n",
      "50000/50000 [==============================] - 11s 216us/step - loss: 0.0920 - accuracy: 0.9701 - val_loss: 3.7024 - val_accuracy: 0.5331\n",
      "Epoch 73/100\n",
      "50000/50000 [==============================] - 11s 217us/step - loss: 0.0995 - accuracy: 0.9677 - val_loss: 3.1256 - val_accuracy: 0.5377\n",
      "Epoch 74/100\n",
      "50000/50000 [==============================] - 11s 214us/step - loss: 0.0833 - accuracy: 0.9723 - val_loss: 3.5343 - val_accuracy: 0.5288\n",
      "Epoch 75/100\n",
      "50000/50000 [==============================] - 11s 215us/step - loss: 0.0826 - accuracy: 0.9734 - val_loss: 3.4702 - val_accuracy: 0.5284\n",
      "Epoch 76/100\n",
      "50000/50000 [==============================] - 11s 216us/step - loss: 0.0852 - accuracy: 0.9717 - val_loss: 3.6682 - val_accuracy: 0.5304\n",
      "Epoch 77/100\n",
      "50000/50000 [==============================] - 11s 213us/step - loss: 0.0897 - accuracy: 0.9711 - val_loss: 3.2814 - val_accuracy: 0.5334\n",
      "Epoch 78/100\n",
      "50000/50000 [==============================] - 11s 216us/step - loss: 0.0836 - accuracy: 0.9727 - val_loss: 3.5699 - val_accuracy: 0.5308\n",
      "Epoch 79/100\n",
      "50000/50000 [==============================] - 11s 216us/step - loss: 0.0931 - accuracy: 0.9699 - val_loss: 3.3978 - val_accuracy: 0.5309\n",
      "Epoch 80/100\n",
      "50000/50000 [==============================] - 11s 216us/step - loss: 0.0831 - accuracy: 0.9731 - val_loss: 3.4261 - val_accuracy: 0.5372\n",
      "Epoch 81/100\n",
      "50000/50000 [==============================] - 11s 211us/step - loss: 0.0687 - accuracy: 0.9773 - val_loss: 3.6493 - val_accuracy: 0.5291\n",
      "Epoch 82/100\n",
      "50000/50000 [==============================] - 12s 230us/step - loss: 0.0837 - accuracy: 0.9718 - val_loss: 3.6501 - val_accuracy: 0.5334\n",
      "Epoch 83/100\n",
      "50000/50000 [==============================] - 11s 213us/step - loss: 0.0838 - accuracy: 0.9736 - val_loss: 3.4620 - val_accuracy: 0.5259\n",
      "Epoch 84/100\n",
      "50000/50000 [==============================] - 10s 202us/step - loss: 0.0855 - accuracy: 0.9728 - val_loss: 3.3635 - val_accuracy: 0.5341\n",
      "Epoch 85/100\n",
      "50000/50000 [==============================] - 10s 202us/step - loss: 0.0770 - accuracy: 0.9758 - val_loss: 3.5056 - val_accuracy: 0.5331\n",
      "Epoch 86/100\n",
      "50000/50000 [==============================] - 10s 195us/step - loss: 0.0821 - accuracy: 0.9736 - val_loss: 3.6107 - val_accuracy: 0.5297\n",
      "Epoch 87/100\n",
      "50000/50000 [==============================] - 10s 195us/step - loss: 0.0766 - accuracy: 0.9754 - val_loss: 3.5996 - val_accuracy: 0.5354\n",
      "Epoch 88/100\n",
      "50000/50000 [==============================] - 10s 194us/step - loss: 0.0750 - accuracy: 0.9766 - val_loss: 3.4784 - val_accuracy: 0.5345\n",
      "Epoch 89/100\n",
      "50000/50000 [==============================] - 10s 193us/step - loss: 0.0693 - accuracy: 0.9776 - val_loss: 3.6036 - val_accuracy: 0.5373\n",
      "Epoch 90/100\n",
      "50000/50000 [==============================] - 10s 199us/step - loss: 0.0727 - accuracy: 0.9766 - val_loss: 3.6407 - val_accuracy: 0.5352\n",
      "Epoch 91/100\n",
      "50000/50000 [==============================] - 10s 196us/step - loss: 0.0820 - accuracy: 0.9736 - val_loss: 3.5154 - val_accuracy: 0.5290\n",
      "Epoch 92/100\n",
      "50000/50000 [==============================] - 10s 198us/step - loss: 0.0751 - accuracy: 0.9760 - val_loss: 3.8309 - val_accuracy: 0.5327\n",
      "Epoch 93/100\n",
      "50000/50000 [==============================] - 10s 197us/step - loss: 0.0793 - accuracy: 0.9749 - val_loss: 3.7418 - val_accuracy: 0.5271\n",
      "Epoch 94/100\n",
      "50000/50000 [==============================] - 10s 192us/step - loss: 0.0688 - accuracy: 0.9780 - val_loss: 3.9121 - val_accuracy: 0.5373\n",
      "Epoch 95/100\n",
      "50000/50000 [==============================] - 10s 201us/step - loss: 0.0764 - accuracy: 0.9755 - val_loss: 3.7110 - val_accuracy: 0.5306\n",
      "Epoch 96/100\n",
      "50000/50000 [==============================] - 10s 198us/step - loss: 0.0743 - accuracy: 0.9767 - val_loss: 3.8712 - val_accuracy: 0.5368\n",
      "Epoch 97/100\n",
      "50000/50000 [==============================] - 10s 208us/step - loss: 0.0651 - accuracy: 0.9789 - val_loss: 3.7759 - val_accuracy: 0.5397\n",
      "Epoch 98/100\n",
      "50000/50000 [==============================] - 10s 204us/step - loss: 0.0635 - accuracy: 0.9791 - val_loss: 3.8111 - val_accuracy: 0.5332\n",
      "Epoch 99/100\n",
      "50000/50000 [==============================] - 10s 203us/step - loss: 0.0683 - accuracy: 0.9785 - val_loss: 3.8107 - val_accuracy: 0.5345\n",
      "Epoch 100/100\n",
      "50000/50000 [==============================] - 10s 204us/step - loss: 0.0806 - accuracy: 0.9751 - val_loss: 3.4704 - val_accuracy: 0.5369\n"
     ]
    },
    {
     "data": {
      "text/plain": [
       "<keras.callbacks.callbacks.History at 0x1e3d4408>"
      ]
     },
     "execution_count": 9,
     "metadata": {},
     "output_type": "execute_result"
    }
   ],
   "source": [
    "model.fit(x_train, y_train, \n",
    "          epochs=EPOCHS, \n",
    "          batch_size=BATCH_SIZE, \n",
    "          validation_data=(x_test, y_test), \n",
    "          shuffle=True)"
   ]
  },
  {
   "cell_type": "code",
   "execution_count": 11,
   "metadata": {},
   "outputs": [
    {
     "data": {
      "image/png": "[encoded data removed]",
      "text/plain": [
       "<Figure size 432x288 with 1 Axes>"
      ]
     },
     "metadata": {
      "needs_background": "light"
     },
     "output_type": "display_data"
    },
    {
     "data": {
      "image/png": "[encoded data removed]",
      "text/plain": [
       "<Figure size 432x288 with 1 Axes>"
      ]
     },
     "metadata": {
      "needs_background": "light"
     },
     "output_type": "display_data"
    }
   ],
   "source": [
    "# 訓練模型並檢視驗證集的結果\n",
    "import matplotlib.pyplot as plt\n",
    "\n",
    "\n",
    "train_loss = model.history.history[\"loss\"]\n",
    "valid_loss = model.history.history[\"val_loss\"]\n",
    "\n",
    "train_acc = model.history.history[\"accuracy\"]\n",
    "valid_acc = model.history.history[\"val_accuracy\"]\n",
    "\n",
    "plt.plot(range(len(train_loss)), train_loss, label=\"train loss\")\n",
    "plt.plot(range(len(valid_loss)), valid_loss, label=\"valid loss\")\n",
    "plt.legend()\n",
    "plt.title(\"Loss\")\n",
    "plt.show()\n",
    "\n",
    "plt.plot(range(len(train_acc)), train_acc, label=\"train accuracy\")\n",
    "plt.plot(range(len(valid_acc)), valid_acc, label=\"valid accuracy\")\n",
    "plt.legend()\n",
    "plt.title(\"Accuracy\")\n",
    "plt.show()"
   ]
  }
 ],
 "metadata": {
  "kernelspec": {
   "display_name": "Python 3",
   "language": "python",
   "name": "python3"
  },
  "language_info": {
   "codemirror_mode": {
    "name": "ipython",
    "version": 3
   },
   "file_extension": ".py",
   "mimetype": "text/x-python",
   "name": "python",
   "nbconvert_exporter": "python",
   "pygments_lexer": "ipython3",
   "version": "3.7.4"
  }
 },
 "nbformat": 4,
 "nbformat_minor": 2
}
