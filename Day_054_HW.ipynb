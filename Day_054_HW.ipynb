{
 "cells": [
  {
   "cell_type": "markdown",
   "metadata": {},
   "source": [
    "# 作業\n",
    "* 試著想想看, 非監督學習是否有可能使用評價函數 (Metric) 來鑑別好壞呢?  \n",
    "(Hint : 可以分為 \"有目標值\" 與 \"無目標值\" 兩個方向思考)"
   ]
  },
  {
   "cell_type": "code",
   "execution_count": null,
   "metadata": {
    "collapsed": true
   },
   "outputs": [],
   "source": [
    "'''\n",
    "參考文章:\n",
    "    \n",
    "機器學習模型的質量評價：回歸metrics\n",
    "https://zhuanlan.zhihu.com/p/54991076\n",
    "\n",
    "'''"
   ]
  },
  {
   "cell_type": "code",
   "execution_count": null,
   "metadata": {},
   "outputs": [],
   "source": [
    "'''\n",
    "參考文章:\n",
    "\n",
    "機器學習-非監督學習- K-means\n",
    "http://www.taroballz.com/2018/07/19/ML_unsupervise_Kmeans/\n",
    "\n",
    "'''"
   ]
  },
  {
   "cell_type": "code",
   "execution_count": null,
   "metadata": {},
   "outputs": [],
   "source": [
    "'''\n",
    "個人看法:\n",
    "\n",
    "無目標，是否能完理想聚類 - \n",
    "1. 族群與族群之間的距離最大\n",
    "2. 族群內部各個樣本之間越相似越好\n",
    "\n",
    "有目標，則是否能完成理想分類。\n",
    "\n",
    "只要能做到，就有機會能鑑別出接近理想結果的非監督學習的結果。\n",
    "\n",
    "'''"
   ]
  }
 ],
 "metadata": {
  "kernelspec": {
   "display_name": "Python 3",
   "language": "python",
   "name": "python3"
  },
  "language_info": {
   "codemirror_mode": {
    "name": "ipython",
    "version": 3
   },
   "file_extension": ".py",
   "mimetype": "text/x-python",
   "name": "python",
   "nbconvert_exporter": "python",
   "pygments_lexer": "ipython3",
   "version": "3.7.3"
  }
 },
 "nbformat": 4,
 "nbformat_minor": 1
}
