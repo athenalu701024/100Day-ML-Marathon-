{
 "cells": [
  {
   "cell_type": "markdown",
   "metadata": {},
   "source": [
    "## 練習時間"
   ]
  },
  {
   "cell_type": "markdown",
   "metadata": {},
   "source": [
    "請觀看李宏毅教授以神奇寶貝進化 CP 值預測的範例，解說何謂機器學習與過擬合。並回答以下問題"
   ]
  },
  {
   "cell_type": "markdown",
   "metadata": {},
   "source": [
    "[youtube](https://www.youtube.com/watch?v=fegAeph9UaA)"
   ]
  },
  {
   "cell_type": "markdown",
   "metadata": {},
   "source": [
    "### 1. 模型的泛化能力 (generalization) 是指什麼？ \n",
    "### 2. 分類問題與回歸問題分別可用的目標函數有哪些？"
   ]
  },
  {
   "cell_type": "code",
   "execution_count": null,
   "metadata": {},
   "outputs": [],
   "source": [
    "'''\n",
    "0.何謂機器學習與過擬合\n",
    "\n",
    "機器學習:機器學習演算法是一類從資料中自動分析獲得規律，並利用規律對未知資料進行預測的演算法。\n",
    "\n",
    "過度擬合:當某個模型過度的學習訓練數據中的細節和噪音，以至於模型在新的數據上表現很差\n",
    "(原文網址：https://kknews.cc/code/4ovm8x3.html)\n",
    "\n",
    "'''"
   ]
  },
  {
   "cell_type": "code",
   "execution_count": null,
   "metadata": {},
   "outputs": [],
   "source": [
    "'''\n",
    "1. 泛化能力（generalization ability）\n",
    "是指模型很好地擬合以前未見過的新數據（從用於創建該模型的同一分佈中抽取）的能力。\n",
    "是指機器學習算法對新鮮樣本的適應能力，簡而言之是在原有的數據集上添加新的數據集，通過訓練輸出一個合理的結果。\n",
    "學習的目的是學到隱含在數據背後的規律，對具有同一規律的學習集以外的數據，經過訓練的網絡也能給出合適的輸出，該能力稱為泛化能力。\n",
    "\n",
    "'''"
   ]
  },
  {
   "cell_type": "code",
   "execution_count": null,
   "metadata": {},
   "outputs": [],
   "source": [
    "'''\n",
    "2. \n",
    "無論是分類還是迴歸，都是想建立一個預測模型，給定一個輸入可以得到一個輸出。\n",
    "不同的只是在分類問題中，輸出是離散的; 而在迴歸問題中輸出是連續的。\n",
    "\n",
    "分類問題最常用的學習算法包括 SVM (支持向量機) , SGD (隨機梯度下降算法), Bayes (貝葉斯估計), Ensemble, KNN 等。\n",
    "回歸問題也能使用 SVR, SGD, Ensemble 等算法，以及其它線性迴歸算法。\n",
    "\n",
    "資料來源:https://www.twblogs.net/a/5c188f10bd9eee5e41847a50\n",
    "\n",
    "'''"
   ]
  }
 ],
 "metadata": {
  "kernelspec": {
   "display_name": "Python 3",
   "language": "python",
   "name": "python3"
  },
  "language_info": {
   "codemirror_mode": {
    "name": "ipython",
    "version": 3
   },
   "file_extension": ".py",
   "mimetype": "text/x-python",
   "name": "python",
   "nbconvert_exporter": "python",
   "pygments_lexer": "ipython3",
   "version": "3.7.3"
  }
 },
 "nbformat": 4,
 "nbformat_minor": 2
}
